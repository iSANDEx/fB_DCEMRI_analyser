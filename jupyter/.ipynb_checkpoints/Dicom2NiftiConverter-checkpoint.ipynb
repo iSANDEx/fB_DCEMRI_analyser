{
 "cells": [
  {
   "cell_type": "code",
   "execution_count": 3,
   "id": "c1dc95f4-a15a-451b-8539-35c4746e4a40",
   "metadata": {
    "tags": []
   },
   "outputs": [],
   "source": [
    "import os\n",
    "import dicom2nifti \n",
    "from directory_tree import display_tree  # Nice tool to display directory trees (https://pypi.org/project/directory-tree/)"
   ]
  },
  {
   "cell_type": "code",
   "execution_count": 7,
   "id": "1c2e42d2-65a5-4721-bdc9-dd00499eb55a",
   "metadata": {
    "tags": []
   },
   "outputs": [],
   "source": [
    "def list_folder_content(path, show_hidden=False):\n",
    "    if show_hidden:\n",
    "        ddfldrlst = os.listdir(path)\n",
    "    else:\n",
    "        ddfldrlst = list(filter(lambda item: not item.startswith('.'),os.listdir(path)))      \n",
    "    return ddfldrlst\n",
    "\n",
    "def display_folder_list(file_list):\n",
    "    print('\\n'.join(f'[{idx}] - {file_idx}' for idx, file_idx in enumerate(file_list)))\n"
   ]
  },
  {
   "cell_type": "code",
   "execution_count": 18,
   "id": "090cb5a5-9321-46f6-8000-2fccc646cfb6",
   "metadata": {
    "tags": []
   },
   "outputs": [],
   "source": [
    "HOMEPATH = os.getenv('HOME')\n",
    "SRCPATH = os.path.join(HOMEPATH, 'Data', 'fMRIBreastData')\n",
    "INPUTPATH = os.path.join(SRCPATH, 'StudyData')\n",
    "OUTPUTPATH = os.path.join(SRCPATH, 'NiftiData')"
   ]
  },
  {
   "cell_type": "code",
   "execution_count": 19,
   "id": "a536bf5d-35be-44c0-9af4-bb7dfb78388d",
   "metadata": {
    "tags": []
   },
   "outputs": [
    {
     "name": "stdout",
     "output_type": "stream",
     "text": [
      "StudyData/\n",
      "├── ANON18218/\n",
      "│   └── ANON18218/\n",
      "│       ├── 20230405/\n",
      "│       │   └── 301/\n",
      "│       └── 20230511/\n",
      "│           └── 301/\n",
      "├── ANON68760/\n",
      "│   └── ANON89073/\n",
      "│       ├── 20221212/\n",
      "│       │   └── 301/\n",
      "│       └── 20230120/\n",
      "│           └── 301/\n",
      "├── ANON89073/\n",
      "│   └── ANON89073/\n",
      "│       ├── 20221026/\n",
      "│       │   └── 601/\n",
      "│       └── 20221215/\n",
      "│           ├── 301/\n",
      "│           └── 67799/\n",
      "├── ANON97378/\n",
      "│   └── ANON18218/\n",
      "│       ├── 20230621/\n",
      "│       │   └── 301/\n",
      "│       └── 20230726/\n",
      "│           └── 301/\n",
      "├── ANON98269/\n",
      "│   └── ANON18218/\n",
      "│       ├── 20230621/\n",
      "│       │   └── 501/\n",
      "│       └── 20230726/\n",
      "│           └── 301/\n",
      "├── ANON99397/\n",
      "│   └── ANON18218/\n",
      "│       └── 20230720/\n",
      "│           └── 301/\n",
      "└── RICE001/\n",
      "    └── RICE001/\n",
      "        ├── 20221026/\n",
      "        │   └── 601/\n",
      "        └── 20221215/\n",
      "            └── 301/\n",
      "\n"
     ]
    }
   ],
   "source": [
    "print(display_tree(INPUTPATH, header=True, string_rep=True, show_hidden=False, max_depth=4))"
   ]
  },
  {
   "cell_type": "code",
   "execution_count": 41,
   "id": "659603a2-927f-43cf-b538-d09c6d3210eb",
   "metadata": {
    "tags": []
   },
   "outputs": [
    {
     "name": "stdout",
     "output_type": "stream",
     "text": [
      "301\n",
      "Replicate the folder in the output directory /Users/joseulloa/Data/fMRIBreastData/NiftiData\n",
      "Performing conversion from /Users/joseulloa/Data/fMRIBreastData/StudyData/ANON18218/ANON18218/301, please wait...\n",
      "Conversion done successfully, moving to the next data folder.\n",
      "301\n",
      "Replicate the folder in the output directory /Users/joseulloa/Data/fMRIBreastData/NiftiData\n",
      "Performing conversion from /Users/joseulloa/Data/fMRIBreastData/StudyData/ANON18218/ANON18218/301, please wait...\n",
      "Conversion done successfully, moving to the next data folder.\n",
      "301\n",
      "Replicate the folder in the output directory /Users/joseulloa/Data/fMRIBreastData/NiftiData\n",
      "Performing conversion from /Users/joseulloa/Data/fMRIBreastData/StudyData/ANON89073/ANON89073/301, please wait...\n",
      "Conversion done successfully, moving to the next data folder.\n",
      "67799\n",
      "Replicate the folder in the output directory /Users/joseulloa/Data/fMRIBreastData/NiftiData\n",
      "Performing conversion from /Users/joseulloa/Data/fMRIBreastData/StudyData/ANON89073/ANON89073/67799, please wait...\n",
      "Conversion done successfully, moving to the next data folder.\n",
      "601\n",
      "Replicate the folder in the output directory /Users/joseulloa/Data/fMRIBreastData/NiftiData\n",
      "Performing conversion from /Users/joseulloa/Data/fMRIBreastData/StudyData/ANON89073/ANON89073/601, please wait...\n",
      "Conversion done successfully, moving to the next data folder.\n",
      "501\n",
      "Replicate the folder in the output directory /Users/joseulloa/Data/fMRIBreastData/NiftiData\n",
      "Performing conversion from /Users/joseulloa/Data/fMRIBreastData/StudyData/ANON98269/ANON18218/501, please wait...\n",
      "Conversion done successfully, moving to the next data folder.\n",
      "301\n",
      "Replicate the folder in the output directory /Users/joseulloa/Data/fMRIBreastData/NiftiData\n",
      "Performing conversion from /Users/joseulloa/Data/fMRIBreastData/StudyData/ANON98269/ANON18218/301, please wait...\n",
      "Conversion done successfully, moving to the next data folder.\n",
      "301\n",
      "Replicate the folder in the output directory /Users/joseulloa/Data/fMRIBreastData/NiftiData\n",
      "Performing conversion from /Users/joseulloa/Data/fMRIBreastData/StudyData/ANON68760/ANON89073/301, please wait...\n",
      "Conversion done successfully, moving to the next data folder.\n",
      "301\n",
      "Replicate the folder in the output directory /Users/joseulloa/Data/fMRIBreastData/NiftiData\n",
      "Performing conversion from /Users/joseulloa/Data/fMRIBreastData/StudyData/ANON68760/ANON89073/301, please wait...\n",
      "Conversion done successfully, moving to the next data folder.\n",
      "301\n",
      "Replicate the folder in the output directory /Users/joseulloa/Data/fMRIBreastData/NiftiData\n",
      "Performing conversion from /Users/joseulloa/Data/fMRIBreastData/StudyData/ANON97378/ANON18218/301, please wait...\n",
      "Conversion done successfully, moving to the next data folder.\n",
      "301\n",
      "Replicate the folder in the output directory /Users/joseulloa/Data/fMRIBreastData/NiftiData\n",
      "Performing conversion from /Users/joseulloa/Data/fMRIBreastData/StudyData/ANON97378/ANON18218/301, please wait...\n",
      "Conversion done successfully, moving to the next data folder.\n",
      "301\n",
      "Replicate the folder in the output directory /Users/joseulloa/Data/fMRIBreastData/NiftiData\n",
      "Performing conversion from /Users/joseulloa/Data/fMRIBreastData/StudyData/RICE001/RICE001/301, please wait...\n",
      "Conversion done successfully, moving to the next data folder.\n",
      "601\n",
      "Replicate the folder in the output directory /Users/joseulloa/Data/fMRIBreastData/NiftiData\n",
      "Performing conversion from /Users/joseulloa/Data/fMRIBreastData/StudyData/RICE001/RICE001/601, please wait...\n",
      "Conversion done successfully, moving to the next data folder.\n",
      "301\n",
      "Replicate the folder in the output directory /Users/joseulloa/Data/fMRIBreastData/NiftiData\n",
      "Performing conversion from /Users/joseulloa/Data/fMRIBreastData/StudyData/ANON99397/ANON18218/301, please wait...\n",
      "Conversion done successfully, moving to the next data folder.\n"
     ]
    }
   ],
   "source": [
    "# Expected sub-folder tree follows the pattern:\n",
    "# PATIENT -> (SubFolder) -> DATE_OF_VISIT -> DCE_MRI_SEQUENCE\n",
    "PATIENTS = list_folder_content(INPUTPATH)\n",
    "for patient in PATIENTS:\n",
    "    path2patient = os.path.join(INPUTPATH, patient)\n",
    "    subFldr = list_folder_content(path2patient)\n",
    "    if len(subFldr) > 1:\n",
    "        print(f'ERROR! there are more than one folder in {path2patient}')\n",
    "        break\n",
    "    path2visits = os.path.join(path2patient, subFldr[0])\n",
    "    studyVisits = list_folder_content(path2visits)\n",
    "    for visit in studyVisits:\n",
    "        path2studyVisit = os.path.join(path2visits,visit)\n",
    "        dataFolders = list_folder_content(path2studyVisit)\n",
    "        for dataFldr in dataFolders:\n",
    "            path2dataFolder = os.path.join(path2studyVisit, dataFldr)\n",
    "            dceTimePoints = list_folder_content(path2dataFolder)\n",
    "            for timePoint_i in dceTimePoints:\n",
    "                print(timePoint_i)\n",
    "                path2TimePoint = os.path.join(path2dataFolder, timePoint_i)\n",
    "            print(f'Replicate the folder in the output directory {OUTPUTPATH}')\n",
    "            ipath = os.path.join(path2visits, dataFldr)\n",
    "            opath = os.path.join(OUTPUTPATH, patient, subFldr[0], visit, dataFldr)\n",
    "            try:\n",
    "                os.makedirs(opath, exist_ok=True)\n",
    "            except Exception as err:\n",
    "                print(f'ERROR: Cannot create the folder {opath}')\n",
    "                break\n",
    "            print(f'Performing conversion from {ipath}, please wait...')\n",
    "            dicom2nifti.convert_directory(ipath, opath)\n",
    "            print('Conversion done successfully, moving to the next data folder.')"
   ]
  },
  {
   "cell_type": "code",
   "execution_count": 16,
   "id": "a356d468-e100-4f00-a968-15368d7563e0",
   "metadata": {
    "tags": []
   },
   "outputs": [
    {
     "data": {
      "text/plain": [
       "['ANON18218']"
      ]
     },
     "execution_count": 16,
     "metadata": {},
     "output_type": "execute_result"
    }
   ],
   "source": [
    "subFldr"
   ]
  }
 ],
 "metadata": {
  "kernelspec": {
   "display_name": "Python 3 (ipykernel)",
   "language": "python",
   "name": "python3"
  },
  "language_info": {
   "codemirror_mode": {
    "name": "ipython",
    "version": 3
   },
   "file_extension": ".py",
   "mimetype": "text/x-python",
   "name": "python",
   "nbconvert_exporter": "python",
   "pygments_lexer": "ipython3",
   "version": "3.9.6"
  }
 },
 "nbformat": 4,
 "nbformat_minor": 5
}
