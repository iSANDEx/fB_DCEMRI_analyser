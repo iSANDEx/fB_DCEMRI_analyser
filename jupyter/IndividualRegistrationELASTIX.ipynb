{
 "cells": [
  {
   "cell_type": "code",
   "execution_count": 1,
   "id": "4382f573-24ad-4d1c-b724-39c54384a77f",
   "metadata": {
    "tags": []
   },
   "outputs": [],
   "source": [
    "import os\n",
    "import time\n",
    "# import ants\n",
    "import itk\n",
    "# from itkwidgets import view --> This seems to cause the issue when an error happened, the kernel disconnects and stays in a zombie state\n",
    "# import SimpleITK as sitk  # An alternative to itk\n",
    "import glob\n",
    "import shutil\n",
    "import numpy as np\n",
    "# import pydicom as pyd\n",
    "# import dicom2nifti\n",
    "from directory_tree import display_tree  # Nice tool to display directory trees (https://pypi.org/project/directory-tree/)\n",
    "\n",
    "from datetime import timedelta"
   ]
  },
  {
   "cell_type": "code",
   "execution_count": 2,
   "id": "476f62b0-67a7-4a8b-82a2-6274d9562793",
   "metadata": {
    "tags": []
   },
   "outputs": [],
   "source": [
    "def list_folder_content(path, show_hidden=False):\n",
    "    if show_hidden:\n",
    "        ddfldrlst = os.listdir(path)\n",
    "    else:\n",
    "        ddfldrlst = list(filter(lambda item: not item.startswith('.'),os.listdir(path)))      \n",
    "    return ddfldrlst\n",
    "\n",
    "def display_folder_list(file_list):\n",
    "    print('\\n'.join(f'[{idx}] - {file_idx}' for idx, file_idx in enumerate(file_list)))\n",
    "\n",
    "def get_path_to_process(full_path):\n",
    "    print('Folder content:')\n",
    "    print(display_tree(full_path, header=True, string_rep=True, show_hidden=False, max_depth=2))\n",
    "    folder_content = list_folder_content(full_path)\n",
    "    # Ideally we'll have only one sub-folder inside the PreTreatment folder. If more than one, then we have to choose, but by default, we'll select the first one.\n",
    "    idx_reg = 0\n",
    "    if len(folder_content) > 1:\n",
    "        display_folder_list(folder_content)\n",
    "        idx_sel = input(f'Select the folder with the dataset_to_process to process (0-{len(folder_content)-1} or just press Enter to proceed with sub-folder {folder_content[idx_reg]}):')\n",
    "        if idx_sel:\n",
    "            idx_reg = int(idx_sel)\n",
    "    path2data = os.path.join(full_path, folder_content[idx_reg])\n",
    "    print(f'Will process {folder_content[idx_reg]}')\n",
    "    return path2data\n",
    "\n",
    "def check_time_points(path_to_check, nmax = 6):\n",
    "    if path_to_check is not None:\n",
    "        nr_of_folders = list_folder_content(path_to_check)\n",
    "        print('Folder seems Ok:' if len(nr_of_folders)== nmax else f'Error! Check path {path_to_check} is the correct one:')\n",
    "        display_tree(path_to_check, max_depth=1)\n",
    "        return nr_of_folders if len(nr_of_folders) == nmax else None\n",
    "    else:\n",
    "        return None\n",
    "\n",
    "def add_prefix_to_filename(full_path, prefix=None):\n",
    "    # Assume the last part of the path is the filename (with extension)\n",
    "    file_path, file_name_ext = os.path.split(full_path)\n",
    "    if prefix:\n",
    "        updated_filename = '_'.join([prefix, file_name_ext])\n",
    "        return os.path.join(file_path, updated_filename)\n",
    "    else:\n",
    "        return prefix"
   ]
  },
  {
   "cell_type": "code",
   "execution_count": 3,
   "id": "be4383db-cc72-43bf-b968-9411cbf170b3",
   "metadata": {
    "tags": []
   },
   "outputs": [],
   "source": [
    "HOMEPATH = os.getenv('HOME')\n",
    "SRCPATH = os.path.join(HOMEPATH, 'Data', 'fMRIBreastData')\n",
    "\n",
    "DCMSRCFLDR = 'StudyData'\n",
    "NIFTISRCFLDR = 'NiftiData'\n",
    "OUTPUTFLDR = 'ElastixReg'\n",
    "CONFIGFLDR = 'configFiles'\n",
    "\n",
    "studypath = os.path.join(SRCPATH, NIFTISRCFLDR)\n",
    "savepath = os.path.join(SRCPATH, OUTPUTFLDR)\n",
    "cfgpath = os.path.join(SRCPATH, CONFIGFLDR)\n",
    "# Check whether the folder SAVEPATH exists or not, if not, attempts to create it\n",
    "os.makedirs(savepath, exist_ok=True)"
   ]
  },
  {
   "cell_type": "code",
   "execution_count": 4,
   "id": "e89b684b-ef57-433e-a3d3-de6e959b4fcc",
   "metadata": {
    "tags": []
   },
   "outputs": [],
   "source": [
    "DEBUGMODE = False"
   ]
  },
  {
   "cell_type": "code",
   "execution_count": 5,
   "id": "ddb3d410-d52b-4273-b025-b3f29e367659",
   "metadata": {
    "tags": []
   },
   "outputs": [
    {
     "name": "stdout",
     "output_type": "stream",
     "text": [
      "Patient data folders:\n",
      "[0] - ANON18218\n",
      "[1] - ANON89073\n",
      "[2] - ANON98269\n",
      "[3] - ANON68760\n",
      "[4] - ANON97378\n",
      "[5] - RICE001\n",
      "[6] - ANON99397\n"
     ]
    },
    {
     "name": "stdin",
     "output_type": "stream",
     "text": [
      "Select a patient index (0-6) 6\n"
     ]
    }
   ],
   "source": [
    "patients = list_folder_content(studypath)\n",
    "print('Patient data folders:')\n",
    "display_folder_list(patients)\n",
    "idx_sel = int(input(f'Select a patient index (0-{len(patients)-1})'))\n",
    "if idx_sel > len(patients)-1:\n",
    "    print(f'ERROR!: Selected index {idx_sel} is out of range for the PATIENTS list (it must be ≤{len(patients)-1})')"
   ]
  },
  {
   "cell_type": "code",
   "execution_count": 6,
   "id": "6853220c-88fb-434d-81a7-b57cb03b2202",
   "metadata": {
    "tags": []
   },
   "outputs": [
    {
     "name": "stdout",
     "output_type": "stream",
     "text": [
      "ANON99397/\n",
      "└── ANON18218/\n",
      "    └── 20230720/\n",
      "        └── 301/\n",
      "            ├── 1/\n",
      "            ├── 2/\n",
      "            ├── 3/\n",
      "            ├── 4/\n",
      "            ├── 5/\n",
      "            └── 6/\n",
      "\n"
     ]
    }
   ],
   "source": [
    "patient = patients[idx_sel]\n",
    "data_patient = os.path.join(studypath, patient)\n",
    "print(display_tree(data_patient, header=True, string_rep=True, show_hidden=False, max_depth=4))"
   ]
  },
  {
   "cell_type": "code",
   "execution_count": 7,
   "id": "e26bf05f-ac3f-4d25-93bc-a1000e21d34c",
   "metadata": {
    "tags": []
   },
   "outputs": [
    {
     "name": "stdin",
     "output_type": "stream",
     "text": [
      "If there is a sub-folder between the PATIENT and VISITS, type it here (if there is no, leave it blank and press ENTER): ANON18218\n"
     ]
    },
    {
     "name": "stdout",
     "output_type": "stream",
     "text": [
      "There are 1 visit from patient ANON99397:\n",
      "[0] - 20230720\n",
      "The earliest visit is the pre-treatment and the latest, the post-treatment. If there is only one visit, we assume it is the pre-treatment\n"
     ]
    }
   ],
   "source": [
    "prefix_folder = input('If there is a sub-folder between the PATIENT and VISITS, type it here (if there is no, leave it blank and press ENTER):')\n",
    "patient_path = os.path.join(data_patient, prefix_folder)\n",
    "visits = list_folder_content(patient_path)\n",
    "print(f'There are {len(visits)} visit{\"s\" if len(visits)>1 else \"\"} from patient {patient}:')\n",
    "display_folder_list(visits)\n",
    "print('The earliest visit is the pre-treatment and the latest, the post-treatment. If there is only one visit, we assume it is the pre-treatment')"
   ]
  },
  {
   "cell_type": "code",
   "execution_count": 8,
   "id": "6cfdc086-8bbe-4aa6-93e6-678b9a4029d5",
   "metadata": {
    "tags": []
   },
   "outputs": [
    {
     "name": "stdout",
     "output_type": "stream",
     "text": [
      "PreTreatment Folder: 20230720\n",
      "PostTreatment Folder: None\n"
     ]
    }
   ],
   "source": [
    "visit_dates = [int(visit) for visit in visits]\n",
    "indices = [ elem[0] for elem in sorted( enumerate(visit_dates), key = lambda pair : pair[1] )]\n",
    "data_visits = {'PreTreatment':''}\n",
    "if len(visits) > 1:\n",
    "    data_visits['PostTreatment'] = ''\n",
    "    \n",
    "for idx, idvisit in enumerate(data_visits):\n",
    "    data_visits[idvisit] = visits[indices[idx]]\n",
    "if len(data_visits) < 2:\n",
    "    data_visits['PostTreatment'] = None\n",
    "print('\\n'.join([f'{visit} Folder: {date}' for visit, date in data_visits.items()]))"
   ]
  },
  {
   "cell_type": "code",
   "execution_count": 9,
   "id": "d8f71831-e80f-4885-b4c7-75cd8c89e22e",
   "metadata": {
    "tags": []
   },
   "outputs": [
    {
     "name": "stdout",
     "output_type": "stream",
     "text": [
      "Select Pre-treatment dataset_to_process:\n",
      "Folder content:\n",
      "20230720/\n",
      "└── 301/\n",
      "    ├── 1/\n",
      "    ├── 2/\n",
      "    ├── 3/\n",
      "    ├── 4/\n",
      "    ├── 5/\n",
      "    └── 6/\n",
      "\n",
      "Will process 301\n",
      "§§§§§§§§§§§§§§§§§§§§§§§§§§§§§§§§§§§§§§§§§§§§§§§§§§§§§§§§§§§§§§§§§§§§§§§§§§§§§§§§§§§§§§§§§§§§§§§§§§§§\n",
      "Select Post-treatment dataset_to_process:\n",
      "Nothing to process\n"
     ]
    }
   ],
   "source": [
    "# Pre-Treatment Registration\n",
    "print('Select Pre-treatment dataset_to_process:')\n",
    "pre_treatment_path = os.path.join(patient_path, data_visits['PreTreatment'])\n",
    "pre_treat_data_path = get_path_to_process(pre_treatment_path)\n",
    "\n",
    "# Post-Treatment Registration (only if there is data available)\n",
    "print(''.join(['§']*100))\n",
    "print('Select Post-treatment dataset_to_process:')\n",
    "if data_visits['PostTreatment'] != None:\n",
    "    post_treatment_path = os.path.join(patient_path, data_visits['PostTreatment'])\n",
    "    post_treat_data_path = get_path_to_process(post_treatment_path)\n",
    "else:\n",
    "    post_treatment_path = None\n",
    "    post_treat_data_path = None\n",
    "    print('Nothing to process')"
   ]
  },
  {
   "cell_type": "markdown",
   "id": "9ba749eb-3b1e-43b2-9d8a-b16eaa8b043b",
   "metadata": {
    "tags": []
   },
   "source": [
    "We're interested only in the DCEMRI data. There should be 6 sub-folder labelled 1-6, where each one represent a 3D volume on a timepoint:\n",
    "* 1: pre-contrast\n",
    "* 2-6: post-contrast\n"
   ]
  },
  {
   "cell_type": "code",
   "execution_count": 10,
   "id": "39d24859-2d84-4535-aa97-f375b0c1a66f",
   "metadata": {
    "tags": []
   },
   "outputs": [
    {
     "name": "stdout",
     "output_type": "stream",
     "text": [
      "Folder seems Ok:\n",
      "301/\n",
      "├── 1/\n",
      "├── 2/\n",
      "├── 3/\n",
      "├── 4/\n",
      "├── 5/\n",
      "└── 6/\n"
     ]
    }
   ],
   "source": [
    "# Check the selected folders contains the 6 timepoints\n",
    "visit_desc = {'PreTreatment': {'timepoints': check_time_points(pre_treat_data_path),\n",
    "                              'datapath': pre_treat_data_path},\n",
    "             'PostTreatment': {'timepoints': check_time_points(post_treat_data_path),\n",
    "                               'datapath': post_treat_data_path}\n",
    "             }"
   ]
  },
  {
   "cell_type": "code",
   "execution_count": 11,
   "id": "91aa2474-213d-42bd-886f-5441a3539125",
   "metadata": {
    "tags": []
   },
   "outputs": [
    {
     "name": "stdout",
     "output_type": "stream",
     "text": [
      "Processing dataset_to_process /Users/joseulloa/Data/fMRIBreastData/NiftiData/ANON99397/ANON18218\n",
      "Loading images from PreTreatment folder...\n",
      "TimePoint 6, Datafile: 301_dyn_ethrive.nii.gz\n",
      "Loading image volume ...\n",
      "TimePoint 1, Datafile: 301_dyn_ethrive.nii.gz\n",
      "Loading image volume ...\n",
      "TimePoint 4, Datafile: 301_dyn_ethrive.nii.gz\n",
      "Loading image volume ...\n",
      "TimePoint 3, Datafile: 301_dyn_ethrive.nii.gz\n",
      "Loading image volume ...\n",
      "TimePoint 2, Datafile: 301_dyn_ethrive.nii.gz\n",
      "Loading image volume ...\n",
      "TimePoint 5, Datafile: 301_dyn_ethrive.nii.gz\n",
      "Loading image volume ...\n",
      "§§§§§§§§§§§§§§§§§§§§§§§§§§§§§§§§§§§§§§§§§§§§§§§§§§§§§§§§§§§§§§§§§§§§§§§§§§§§§§§§§§§§§§§§§§§§§§§§§§§§\n",
      "Finished loading the data\n"
     ]
    }
   ],
   "source": [
    "# Load the data (Nifti format) using ANTs\n",
    "print(f'Processing dataset_to_process {patient_path}')\n",
    "dataset_to_process = {'PatientID': patient,\n",
    "           'PreTreatment': {},\n",
    "           'PostTreatment': {}\n",
    "          }\n",
    "# By default, we consider the first timepoint (i.e pre-contrast) to be the Fixed image (or reference Space), but it can be changed here, by setting the index to any other timepoint\n",
    "fixed_volume_pos = 1  # It is a position, not an index, that's why start from 1 instead of 0\n",
    "\n",
    "# All other images in the timeseries will be labelled as \"moving\"    \n",
    "for visit_name, description in visit_desc.items():\n",
    "    if description['datapath'] is not None:\n",
    "        print(f'Loading images from {visit_name} folder...')\n",
    "        for idx_data in description['timepoints']:\n",
    "            dataset_to_process[visit_name][idx_data] = {}\n",
    "            nii_filepath = os.path.join(description['datapath'], idx_data)\n",
    "            nii_files = list_folder_content(nii_filepath)\n",
    "            if len(nii_files) > 1:\n",
    "                print(f'WARNING!: Folder {nii_filepath} seems to have more than one volume:')\n",
    "                display_folder_list(nii_files)\n",
    "                break\n",
    "            print(f'TimePoint {idx_data}, Datafile: {nii_files[0]}')\n",
    "            print(f'Loading image volume ...')\n",
    "            dataset_to_process[visit_name][idx_data]['path'] = os.path.join(description['datapath'], idx_data, nii_files[0])\n",
    "            # dataset_to_process[visit_name][idx_data]['img_data'] = ants.image_read(dataset_to_process[visit_name][idx_data]['path'])\n",
    "            dataset_to_process[visit_name][idx_data]['img_data'] = itk.imread(dataset_to_process[visit_name][idx_data]['path'])\n",
    "            dataset_to_process[visit_name][idx_data]['time_point'] = int(idx_data)\n",
    "            if idx_data == '1':\n",
    "                dataset_to_process[visit_name][idx_data]['DCE_ref'] = 'Pre-Contrast'\n",
    "            else:\n",
    "                dataset_to_process[visit_name][idx_data]['DCE_ref'] = 'Post-Contrast'\n",
    "\n",
    "            if int(idx_data) == fixed_volume_pos:\n",
    "                dataset_to_process[visit_name][idx_data]['reg_ref'] = 'Fixed'\n",
    "            else:\n",
    "                dataset_to_process[visit_name][idx_data]['reg_ref'] = 'Moving'\n",
    "        print(''.join(['§']*100))\n",
    "        if DEBUGMODE:\n",
    "            print(dataset_to_process)\n",
    "print('Finished loading the data')"
   ]
  },
  {
   "cell_type": "code",
   "execution_count": 12,
   "id": "c15afda4-516e-4fd5-b001-25d7861b8724",
   "metadata": {},
   "outputs": [],
   "source": [
    "# Registration parameters (this is the meat of the work!)\n",
    "\n",
    "# ANTs\n",
    "# For details about possible values and description of parameters, see the help page: https://antspy.readthedocs.io/en/latest/registration.html\n",
    "# Default values (as listed in the hep page)\n",
    "par_set = {'type_of_transform': 'SyN', \n",
    "               'initial_transform': None, \n",
    "               'outprefix': '', \n",
    "               'mask': None, \n",
    "               'moving_mask': None, \n",
    "               'mask_all_stages': False, \n",
    "               'grad_step': 0.2, \n",
    "               'flow_sigma': 3, \n",
    "               'total_sigma': 0, \n",
    "               'aff_metric': 'mattes', \n",
    "               'aff_sampling': 32, \n",
    "               'aff_random_sampling_rate': 0.2, \n",
    "               'syn_metric': 'mattes', \n",
    "               'syn_sampling': 32, \n",
    "               'reg_iterations': (40, 20, 0), \n",
    "               'aff_iterations': (2100, 1200, 1200, 10), \n",
    "               'aff_shrink_factors': (6, 4, 2, 1), \n",
    "               'aff_smoothing_sigmas': (3, 2, 1, 0), \n",
    "               'write_composite_transform': False, \n",
    "               'random_seed': None}\n",
    "\n",
    "# To ensure reproducibility of the results, set the random_seed to a constant value:\n",
    "par_set['random_seed'] = 42 #(just to keep along with the pop-culture reference, e.g. https://medium.com/geekculture/the-story-behind-random-seed-42-in-machine-learning-b838c4ac290a\n",
    "\n",
    "\n",
    "# Elastix\n",
    "if DEBUGMODE:\n",
    "    print(f'Define the parameters for the registration')\n",
    "par_set = itk.ParameterObject.New()\n",
    "par_set.AddParameterFile(os.path.join(cfgpath, 'Par0032_rigid.txt'))\n",
    "par_set.AddParameterFile(os.path.join(cfgpath, 'Par0032_bsplines.txt'))\n",
    "if DEBUGMODE:\n",
    "    print('Parameters for ELASTIX:')\n",
    "    print(par_set)\n",
    "# parameter_object.AddParameterMap(default_rigid_parameter_map)"
   ]
  },
  {
   "cell_type": "code",
   "execution_count": 13,
   "id": "d3334495-9d64-47c7-b932-11066e15f0f6",
   "metadata": {
    "tags": []
   },
   "outputs": [
    {
     "name": "stdout",
     "output_type": "stream",
     "text": [
      "Selecting FIXED and MOVING dataset_to_processs from patient ANON99397 - PreTreatment visit...\n",
      "Moving image is: /Users/joseulloa/Data/fMRIBreastData/NiftiData/ANON99397/ANON18218/20230720/301/6/301_dyn_ethrive.nii.gz\n",
      "Fixed image is: /Users/joseulloa/Data/fMRIBreastData/NiftiData/ANON99397/ANON18218/20230720/301/1/301_dyn_ethrive.nii.gz\n",
      "Moving image is: /Users/joseulloa/Data/fMRIBreastData/NiftiData/ANON99397/ANON18218/20230720/301/4/301_dyn_ethrive.nii.gz\n",
      "Moving image is: /Users/joseulloa/Data/fMRIBreastData/NiftiData/ANON99397/ANON18218/20230720/301/3/301_dyn_ethrive.nii.gz\n",
      "Moving image is: /Users/joseulloa/Data/fMRIBreastData/NiftiData/ANON99397/ANON18218/20230720/301/2/301_dyn_ethrive.nii.gz\n",
      "Moving image is: /Users/joseulloa/Data/fMRIBreastData/NiftiData/ANON99397/ANON18218/20230720/301/5/301_dyn_ethrive.nii.gz\n",
      "§§§§§§§§§§§§§§§§§§§§§§§§§§§§§§§§§§§§§§§§§§§§§§§§§§§§§§§§§§§§§§§§§§§§§§§§§§§§§§§§§§§§§§§§§§§§§§§§§§§§\n",
      "Finished preparing the data for running the registration process\n"
     ]
    }
   ],
   "source": [
    "moving_dataset = {'PreTreatment': {},\n",
    "             'PostTreatment': {}\n",
    "            }\n",
    "fixed_dataset = {'PreTreatment': {},\n",
    "             'PostTreatment': {}\n",
    "            }\n",
    "for visit_name, description in visit_desc.items():\n",
    "    if description['datapath'] is not None:\n",
    "        print(f'Selecting FIXED and MOVING dataset_to_processs from patient {patient} - {visit_name} visit...')\n",
    "        for timepoint, dataset_to_process_i in dataset_to_process[visit_name].items():\n",
    "            if (dataset_to_process_i['reg_ref']=='Fixed'):\n",
    "                print(f'Fixed image is: {dataset_to_process_i[\"path\"]}')\n",
    "                fixed_volume = dataset_to_process_i['img_data']\n",
    "                fixed_vol_source_path = dataset_to_process_i['path']\n",
    "                path_to_fixed_output_vol = add_prefix_to_filename(fixed_vol_source_path.replace(NIFTISRCFLDR,OUTPUTFLDR), prefix=f'TP{fixed_volume_pos:02d}_FIXED')\n",
    "                if DEBUGMODE:\n",
    "                    print(f'Fixed Image will saved as: {path_to_fixed_output_vol}')\n",
    "                    print(f'Create the output path: {os.path.split(path_to_fixed_output_vol)[0]}')\n",
    "                os.makedirs(os.path.split(path_to_fixed_output_vol)[0], exist_ok=True)\n",
    "                shutil.copy2(fixed_vol_source_path, path_to_fixed_output_vol)\n",
    "                fixed_dataset[visit_name] = {'fixed_volume': fixed_volume,\n",
    "                                       'fixed_vol_source_path': fixed_vol_source_path,\n",
    "                                       'path_to_fixed_output_vol': path_to_fixed_output_vol}\n",
    "            elif (dataset_to_process_i['reg_ref'] == 'Moving'):\n",
    "                print(f'Moving image is: {dataset_to_process_i[\"path\"]}')\n",
    "                moving_dataset[visit_name][dataset_to_process_i['time_point']] = {'moving_volume': dataset_to_process_i['img_data'],\n",
    "                                                   'moving_vol_source_path': dataset_to_process_i['path']}\n",
    "                path_to_moving_output_vol = add_prefix_to_filename(dataset_to_process_i['path'].replace(NIFTISRCFLDR,OUTPUTFLDR), prefix=f\"TP{dataset_to_process_i['time_point']:02d}_MOVED_WRT_TPOINT{fixed_volume_pos:02d}\")\n",
    "                moving_dataset[visit_name][dataset_to_process_i['time_point']]['path_to_moving_output_vols'] = path_to_moving_output_vol\n",
    "                if DEBUGMODE:\n",
    "                    print(f'Moving Image will saved as: {path_to_moving_output_vol}')\n",
    "                    print(f'Create the output path: {os.path.split(path_to_moving_output_vol)[0]}')\n",
    "                os.makedirs(os.path.split(path_to_moving_output_vol)[0], exist_ok=True)\n",
    "        print(''.join(['§']*100))\n",
    "print('Finished preparing the data for running the registration process')"
   ]
  },
  {
   "cell_type": "code",
   "execution_count": 14,
   "id": "30b22d45-867f-4107-94d2-c36785889146",
   "metadata": {
    "tags": []
   },
   "outputs": [
    {
     "name": "stdout",
     "output_type": "stream",
     "text": [
      "Registering PreTreatment dataset_to_process, please wait...\n",
      "Registering moving data at /Users/joseulloa/Data/fMRIBreastData/NiftiData/ANON99397/ANON18218/20230720/301/6/301_dyn_ethrive.nii.gz to fixed image at /Users/joseulloa/Data/fMRIBreastData/NiftiData/ANON99397/ANON18218/20230720/301/1/301_dyn_ethrive.nii.gz...\n",
      "Finished registration of /Users/joseulloa/Data/fMRIBreastData/NiftiData/ANON99397/ANON18218/20230720/301/6/301_dyn_ethrive.nii.gz\n",
      "Elapsed Time: 35.87[s] (0:00:35.866261)\n",
      "Saving output in /Users/joseulloa/Data/fMRIBreastData/ElastixReg/ANON99397/ANON18218/20230720/301/6/TP06_MOVED_WRT_TPOINT01_301_dyn_ethrive.nii.gz\n",
      "§§§§§§§§§§§§§§§§§§§§§§§§§§§§§§§§§§§§§§§§§§§§§§§§§§§§§§§§§§§§§§§§§§§§§§§§§§§§§§§§§§§§§§§§§§§§§§§§§§§§\n",
      "Registering moving data at /Users/joseulloa/Data/fMRIBreastData/NiftiData/ANON99397/ANON18218/20230720/301/4/301_dyn_ethrive.nii.gz to fixed image at /Users/joseulloa/Data/fMRIBreastData/NiftiData/ANON99397/ANON18218/20230720/301/1/301_dyn_ethrive.nii.gz...\n",
      "Finished registration of /Users/joseulloa/Data/fMRIBreastData/NiftiData/ANON99397/ANON18218/20230720/301/4/301_dyn_ethrive.nii.gz\n",
      "Elapsed Time: 36.41[s] (0:00:36.410576)\n",
      "Saving output in /Users/joseulloa/Data/fMRIBreastData/ElastixReg/ANON99397/ANON18218/20230720/301/4/TP04_MOVED_WRT_TPOINT01_301_dyn_ethrive.nii.gz\n",
      "§§§§§§§§§§§§§§§§§§§§§§§§§§§§§§§§§§§§§§§§§§§§§§§§§§§§§§§§§§§§§§§§§§§§§§§§§§§§§§§§§§§§§§§§§§§§§§§§§§§§\n",
      "Registering moving data at /Users/joseulloa/Data/fMRIBreastData/NiftiData/ANON99397/ANON18218/20230720/301/3/301_dyn_ethrive.nii.gz to fixed image at /Users/joseulloa/Data/fMRIBreastData/NiftiData/ANON99397/ANON18218/20230720/301/1/301_dyn_ethrive.nii.gz...\n",
      "Finished registration of /Users/joseulloa/Data/fMRIBreastData/NiftiData/ANON99397/ANON18218/20230720/301/3/301_dyn_ethrive.nii.gz\n",
      "Elapsed Time: 36.61[s] (0:00:36.613415)\n",
      "Saving output in /Users/joseulloa/Data/fMRIBreastData/ElastixReg/ANON99397/ANON18218/20230720/301/3/TP03_MOVED_WRT_TPOINT01_301_dyn_ethrive.nii.gz\n",
      "§§§§§§§§§§§§§§§§§§§§§§§§§§§§§§§§§§§§§§§§§§§§§§§§§§§§§§§§§§§§§§§§§§§§§§§§§§§§§§§§§§§§§§§§§§§§§§§§§§§§\n",
      "Registering moving data at /Users/joseulloa/Data/fMRIBreastData/NiftiData/ANON99397/ANON18218/20230720/301/2/301_dyn_ethrive.nii.gz to fixed image at /Users/joseulloa/Data/fMRIBreastData/NiftiData/ANON99397/ANON18218/20230720/301/1/301_dyn_ethrive.nii.gz...\n",
      "Finished registration of /Users/joseulloa/Data/fMRIBreastData/NiftiData/ANON99397/ANON18218/20230720/301/2/301_dyn_ethrive.nii.gz\n",
      "Elapsed Time: 37.04[s] (0:00:37.044993)\n",
      "Saving output in /Users/joseulloa/Data/fMRIBreastData/ElastixReg/ANON99397/ANON18218/20230720/301/2/TP02_MOVED_WRT_TPOINT01_301_dyn_ethrive.nii.gz\n",
      "§§§§§§§§§§§§§§§§§§§§§§§§§§§§§§§§§§§§§§§§§§§§§§§§§§§§§§§§§§§§§§§§§§§§§§§§§§§§§§§§§§§§§§§§§§§§§§§§§§§§\n",
      "Registering moving data at /Users/joseulloa/Data/fMRIBreastData/NiftiData/ANON99397/ANON18218/20230720/301/5/301_dyn_ethrive.nii.gz to fixed image at /Users/joseulloa/Data/fMRIBreastData/NiftiData/ANON99397/ANON18218/20230720/301/1/301_dyn_ethrive.nii.gz...\n",
      "Finished registration of /Users/joseulloa/Data/fMRIBreastData/NiftiData/ANON99397/ANON18218/20230720/301/5/301_dyn_ethrive.nii.gz\n",
      "Elapsed Time: 36.71[s] (0:00:36.713075)\n",
      "Saving output in /Users/joseulloa/Data/fMRIBreastData/ElastixReg/ANON99397/ANON18218/20230720/301/5/TP05_MOVED_WRT_TPOINT01_301_dyn_ethrive.nii.gz\n",
      "§§§§§§§§§§§§§§§§§§§§§§§§§§§§§§§§§§§§§§§§§§§§§§§§§§§§§§§§§§§§§§§§§§§§§§§§§§§§§§§§§§§§§§§§§§§§§§§§§§§§\n",
      "Concatenating datasets and saving 4D volumes at /Users/joseulloa/Data/fMRIBreastData/ElastixReg/ANON99397/ANON18218/20230720/301. Please wait...\n",
      "Total elapsed time per volume(including saving the data): 223.11[s] (0:03:43.114928)\n",
      "§§§§§§§§§§§§§§§§§§§§§§§§§§§§§§§§§§§§§§§§§§§§§§§§§§§§§§§§§§§§§§§§§§§§§§§§§§§§§§§§§§§§§§§§§§§§§§§§§§§§\n",
      "Finished processing datasets in /Users/joseulloa/Data/fMRIBreastData/NiftiData/ANON99397/ANON18218\n",
      "Total elapsed time per patient (including saving the data): 223.12[s] (0:03:43.116492)\n"
     ]
    }
   ],
   "source": [
    "registration_output = {}\n",
    "init_time = time.perf_counter()\n",
    "for visit_name, description in visit_desc.items():\n",
    "    if description['datapath'] is not None:\n",
    "        print(f'Registering {visit_name} dataset_to_process, please wait...')\n",
    "        # Initialise the output by adding the fixed image into the dictionary so the whole set can be concatenated into a single 4D dataset_to_process:\n",
    "        fixed_volume = fixed_dataset[visit_name]['fixed_volume']\n",
    "        registration_output[visit_name] = {fixed_volume_pos: {'warpedmovout': fixed_volume, \n",
    "                                                            'warpedfixout': fixed_volume,\n",
    "                                                            'fwdtransforms': None,\n",
    "                                                            'invtransforms': None}\n",
    "                                        }\n",
    "        nt = len(moving_dataset[visit_name])+1\n",
    "\n",
    "        # Initialise the image dimensions for the concatenation\n",
    "        # Will use the parameters from the corresponding Fixed image, adding the extra (4th) dimension for the time points:\n",
    "#         spacing = fixed_volume.spacing + (1,)\n",
    "#         origin = fixed_volume.origin + (0,)\n",
    "#         volume_size = fixed_volume.shape + (nt,)\n",
    "#         directions = np.eye(4)\n",
    "#         directions[:-1, :-1] = fixed_volume.direction\n",
    "\n",
    "#         # At the end of the loop, concatenate the unregistered and registered images into single 4D multiarrays:\n",
    "#         template_4d = ants.make_image(imagesize=volume_size,\n",
    "#                                       spacing=spacing, \n",
    "#                                       origin=origin, \n",
    "#                                       direction=directions)\n",
    "        output_volume_path = description['datapath'].replace(NIFTISRCFLDR, OUTPUTFLDR)\n",
    "\n",
    "        # ANTs concatenation output:\n",
    "        registered_series = [None]*nt\n",
    "        unregistered_series = [None]*nt\n",
    "        \n",
    "        # Initialise the concatenation with the fixed (i.e. ref) volume:\n",
    "        registered_series[fixed_volume_pos-1] = fixed_volume\n",
    "        unregistered_series[fixed_volume_pos-1] = fixed_volume\n",
    "        \n",
    "        \n",
    "        # ITK concatenation output: \n",
    "        # To stack the volumes, use the function TileFilter, following the example at \n",
    "        # https://examples.itk.org/src/filtering/imagegrid/create3dvolume/documentation \n",
    "        # However, as I found out the hard way, the method SetInput works in order, even if it is within a loop, it works lexicographically (i.e. ordinal numbers)\n",
    "        # so we'll recycle the list required for ANTs and after the registration, populates the tile in another (much quicker) loop\n",
    "        input_dimension = fixed_volume.GetImageDimension()\n",
    "        pixel_type = itk.template(fixed_volume)[1][0]\n",
    "        output_dimension = input_dimension + 1\n",
    "\n",
    "        input_image_type = itk.Image[pixel_type, input_dimension]\n",
    "        output_image_type = itk.Image[pixel_type, output_dimension]\n",
    "        \n",
    "        layout = [1, 1, 1, nt]\n",
    "        registered_tiles = itk.TileImageFilter[input_image_type, output_image_type].New()\n",
    "        registered_tiles.SetLayout(layout)\n",
    "\n",
    "        unregistered_tiles = itk.TileImageFilter[input_image_type, output_image_type].New()\n",
    "        unregistered_tiles.SetLayout(layout)\n",
    "\n",
    "        # Initialise the concatenation with the fixed (i.e. ref) volume:\n",
    "        # TODO: might not be necessary a default value\n",
    "        # defaultPixelValue = 128\n",
    "        # unregistered_tiles.SetDefaultPixelValue(defaultPixelValue)\n",
    "        if DEBUGMODE:\n",
    "            print(f'Fixed Volume ID: {fixed_volume_pos}')\n",
    "            print(f'Fixed Volume index: {fixed_volume_pos-1}')\n",
    "        \n",
    "        # Start the timer to assess computation time of the registration per volume\n",
    "        init_time_pv = time.perf_counter()\n",
    "        \n",
    "        for idx_set, moving_dataset_i in moving_dataset[visit_name].items():\n",
    "            if DEBUGMODE:\n",
    "                print(f'Index: {idx_set}')\n",
    "            # Initialise a time variable to measure the elapsed time taken during registration:\n",
    "            moving = moving_dataset_i['moving_volume']\n",
    "            \n",
    "            start_time = time.perf_counter()\n",
    "            print(f\"Registering moving data at {moving_dataset_i['moving_vol_source_path']} to fixed image at {fixed_dataset[visit_name]['fixed_vol_source_path']}...\")\n",
    "\n",
    "# RUNNING THE REGISTRATION:\n",
    "            # ANTS:\n",
    "            # registeredOutput = ants.registration(fixed=fixed_volume , moving=moving, **par_set) #type_of_transform='SyN')\n",
    "            # ELASTIX:\n",
    "            warped_moving, result_transform_pars = itk.elastix_registration_method(fixed_volume , \n",
    "                                                                                moving, \n",
    "                                                                                parameter_object=par_set,\n",
    "                                                                                log_to_console=False) \n",
    "# END OF REGISTRATION\n",
    "\n",
    "            end_time = time.perf_counter()\n",
    "            print(f\"Finished registration of {moving_dataset_i['moving_vol_source_path']}\")\n",
    "            elp_time = end_time - start_time\n",
    "            print(f'Elapsed Time: {elp_time:0.2f}[s] ({timedelta(seconds=elp_time)})')\n",
    "            \n",
    "# SORTING OUT THE RESULTS:\n",
    "            # ANTS:\n",
    "            # warped_moving = registeredOutput['warpedmovout']\n",
    "            # ELASTIX:\n",
    "            registration_output[visit_name][idx_set] = {'warpedmovout': warped_moving,\n",
    "                                                        'fwdtransforms': result_transform_pars}\n",
    "            if DEBUGMODE:\n",
    "                print(result_transform_pars)\n",
    "            print(f\"Saving output in {moving_dataset_i['path_to_moving_output_vols']}\")\n",
    "# END OF SORTING OUT\n",
    "\n",
    "# WRITING OUT THE INDIVIDUAL RESULT:\n",
    "            # ANTs:\n",
    "            # ants.image_write( warped_moving, moving_dataset_i['path_to_moving_output_vols'])\n",
    "            # ELASTIX:\n",
    "            itk.imwrite(warped_moving, moving_dataset_i['path_to_moving_output_vols'])\n",
    "\n",
    "# CONCATENATING THE TIME SERIES:\n",
    "            # ANTs:\n",
    "            # Registered Dataset (comment out if not run the actual registration):\n",
    "            registered_series[idx_set-1] = registration_output[visit_name][idx_set]['warpedmovout']\n",
    "            # Unregistered (original raw) Dataset:\n",
    "            unregistered_series[idx_set-1] = moving\n",
    "            \n",
    "            # ITK Concatenation:\n",
    "            # TODO: remove this\n",
    "            # Registered Dataset:\n",
    "            # registered_series.SetInput(idx-1, registration_output[visit_name][idx_set]['warpedmovout'])\n",
    "            # Unregistered Dataset:\n",
    "            # unregistered_series.SetInput(idx-1, moving)\n",
    "\n",
    "            print(''.join(['§']*100))\n",
    "\n",
    "        print(f'Concatenating datasets and saving 4D volumes at {output_volume_path}. Please wait...')\n",
    "        registered_output_path = os.path.join(output_volume_path, 'RegisteredVolumes.nii.gz')\n",
    "        unregistered_output_path = os.path.join(output_volume_path, 'UnregisteredVolumes.nii.gz')\n",
    "\n",
    "        # ITK writing out concatenation results:\n",
    "        # unregistered_series.Update()\n",
    "        # SetInput must be in lexicographical order, so cannot be populated directly in the registration loop\n",
    "        for idx, (reg_vol_i, ureg_vol_i) in enumerate(zip(registered_series, unregistered_series)):\n",
    "            registered_tiles.SetInput(idx, reg_vol_i)\n",
    "            unregistered_tiles.SetInput(idx, ureg_vol_i)\n",
    "\n",
    "        # Registered Dataset:\n",
    "        reg_writer = itk.ImageFileWriter[output_image_type].New()\n",
    "        reg_writer.SetFileName(registered_output_path)\n",
    "        reg_writer.SetInput(registered_tiles.GetOutput())\n",
    "        reg_writer.Update()\n",
    "\n",
    "        # Unregistered Dataset:\n",
    "        ureg_writer = itk.ImageFileWriter[output_image_type].New()\n",
    "        ureg_writer.SetFileName(unregistered_output_path)\n",
    "        ureg_writer.SetInput(unregistered_tiles.GetOutput())\n",
    "        ureg_writer.Update()\n",
    "        \n",
    "        \n",
    "        # ANTs Concatenation:\n",
    "        # registered_4d_series = ants.list_to_ndimage(template_4d, registered_series)\n",
    "        # unregistered_4d_series = ants.list_to_ndimage(template_4d, unregistered_series)\n",
    "        # ANTs writing out concatenation results:\n",
    "        # ants.image_write(registered_4d_series, registered_output_path)\n",
    "        # ants.image_write(unregistered_4d_series, unregistered_output_path)\n",
    "\n",
    "        final_time_pv = time.perf_counter()\n",
    "        elp_per_vol = final_time_pv - init_time_pv\n",
    "        print(f'Total elapsed time per volume(including saving the data): {elp_per_vol:0.2f}[s] ({timedelta(seconds=elp_per_vol)})')\n",
    "        print(''.join(['§']*100))\n",
    "\n",
    "final_time = time.perf_counter()\n",
    "elp_global = final_time - init_time\n",
    "print(f'Finished processing datasets in {patient_path}')\n",
    "print(f'Total elapsed time per patient (including saving the data): {elp_global:0.2f}[s] ({timedelta(seconds=elp_global)})')"
   ]
  },
  {
   "cell_type": "code",
   "execution_count": 34,
   "id": "10d4b096-6212-49dd-ac84-3e0b4b3c4b93",
   "metadata": {
    "tags": []
   },
   "outputs": [
    {
     "name": "stdout",
     "output_type": "stream",
     "text": [
      "Started registration process, please wait...\n",
      "Finished the registration run. Check the results ;) \n"
     ]
    }
   ],
   "source": [
    "# Run single instances to test parameters\n",
    "vname = 'PreTreatment'\n",
    "idx = 4\n",
    "fix_set = fixed_dataset[vname]\n",
    "mov_set = moving_dataset[vname][idx]\n",
    "\n",
    "if DEBUGMODE:\n",
    "    print(f'Started registration process, please wait...')\n",
    "    \n",
    "reg_result, result_transform_parameters = itk.elastix_registration_method(\n",
    "    fix_set['fixed_volume'], mov_set['moving_volume'],\n",
    "    parameter_object=parameter_object,\n",
    "    log_to_console=False)\n",
    "\n",
    "\n",
    "# 1) Basic Elastix Registration\n",
    "test_name = 'BasicElastixRegistration'\n",
    "if DEBUGMODE:\n",
    "    print(f'Finished the registration run. Check the results ;) ')\n",
    "itk.imwrite(reg_result, os.path.join(os.path.split(mov_set['path_to_moving_output_vols'])[0],\n",
    "                                     f'Test_{test_name}_concat_volume.nii.gz'))\n",
    "\n",
    "# par_set['random_seed'] = 42\n",
    "# reg_result = ants.registration(fixed=fix_set['fixed_volume'] , moving=mov_set['moving_volume'], **par_set) #type_of_transform='SyN')\n",
    "\n",
    "# ants.image_write( reg_result['warpedmovout'], mov_set['path_to_moving_output_vols'])\n",
    "# reg_cat_vol = ants.list_to_ndimage(concat_vol, [fix_set['fixed_volume'], reg_result['warpedmovout']])\n",
    "\n",
    "# ants.image_write(reg_cat_vol, \n",
    "#                  os.path.join(os.path.split(mov_set['path_to_moving_output_vols'])[0],\n",
    "#                               f'Test_{test_name}_concat_volume.nii.gz'))\n"
   ]
  },
  {
   "cell_type": "code",
   "execution_count": 15,
   "id": "b0ec4b00-8d88-42dd-879d-157e5db7db69",
   "metadata": {
    "tags": []
   },
   "outputs": [
    {
     "data": {
      "text/plain": [
       "[<itk.itkImagePython.itkImageF3; proxy of <Swig Object of type 'itkImageF3 *' at 0x1412bb390> >,\n",
       " <itk.itkImagePython.itkImageF3; proxy of <Swig Object of type 'itkImageF3 *' at 0x157cf3b70> >,\n",
       " <itk.itkImagePython.itkImageF3; proxy of <Swig Object of type 'itkImageF3 *' at 0x1412bbe40> >,\n",
       " <itk.itkImagePython.itkImageF3; proxy of <Swig Object of type 'itkImageF3 *' at 0x1412bbc60> >,\n",
       " <itk.itkImagePython.itkImageF3; proxy of <Swig Object of type 'itkImageF3 *' at 0x141249750> >,\n",
       " <itk.itkImagePython.itkImageF3; proxy of <Swig Object of type 'itkImageF3 *' at 0x157cf3d50> >]"
      ]
     },
     "execution_count": 15,
     "metadata": {},
     "output_type": "execute_result"
    }
   ],
   "source": []
  },
  {
   "cell_type": "code",
   "execution_count": null,
   "id": "5ac1998f-1dd9-4944-8f8d-a6a402ca0046",
   "metadata": {
    "tags": []
   },
   "outputs": [],
   "source": [
    "itk.CastImageFilter(registered_series[0], itk.Image.UC3].New())"
   ]
  },
  {
   "cell_type": "code",
   "execution_count": null,
   "id": "f46706c1-bb8a-4b39-b70f-b3bd263a69eb",
   "metadata": {
    "tags": []
   },
   "outputs": [],
   "source": [
    "1\n"
   ]
  },
  {
   "cell_type": "code",
   "execution_count": null,
   "id": "6b09e579-2218-4cce-a80d-dcd8c9264c7d",
   "metadata": {},
   "outputs": [],
   "source": []
  }
 ],
 "metadata": {
  "kernelspec": {
   "display_name": "Python 3 (ipykernel)",
   "language": "python",
   "name": "python3"
  },
  "language_info": {
   "codemirror_mode": {
    "name": "ipython",
    "version": 3
   },
   "file_extension": ".py",
   "mimetype": "text/x-python",
   "name": "python",
   "nbconvert_exporter": "python",
   "pygments_lexer": "ipython3",
   "version": "3.9.6"
  }
 },
 "nbformat": 4,
 "nbformat_minor": 5
}
