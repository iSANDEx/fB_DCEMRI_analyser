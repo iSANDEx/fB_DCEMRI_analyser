{
 "cells": [
  {
   "cell_type": "code",
   "execution_count": 1,
   "id": "c6517ab4-4317-43a0-ba10-24ba02085030",
   "metadata": {
    "tags": []
   },
   "outputs": [],
   "source": [
    "import os\n",
    "import sys\n",
    "import math\n",
    "import glob\n",
    "from time import perf_counter\n",
    "import shutil\n",
    "import pydicom\n"
   ]
  },
  {
   "cell_type": "code",
   "execution_count": 2,
   "id": "6509b0f0",
   "metadata": {},
   "outputs": [],
   "source": [
    "def getenv():\n",
    "    \"\"\"\n",
    "    Requires sys and os modules:\n",
    "    import sys\n",
    "    import os\n",
    "    \"\"\"\n",
    "    if sys.platform == 'win32':\n",
    "        env_home = 'HOMEPATH'\n",
    "    elif (sys.platform == 'darwin') | (sys.platform == 'linux'):\n",
    "        env_home = 'HOME'\n",
    "    HOMEPATH = os.getenv(env_home)\n",
    "    \n",
    "    return HOMEPATH\n",
    "\n",
    "def check_path_exist(path, file=False):\n",
    "    \"\"\"\n",
    "    Flag FILE indicates the path contains a file name (FLAG=TRUE) or the path only points to a folder (FLAG=FALSE (Default))\n",
    "    \"\"\"\n",
    "    if file:\n",
    "        is_path = os.path.isfile(path)\n",
    "    else:\n",
    "        is_path = os.path.isdir(path)\n",
    "\n",
    "    print(f'{\"OK:\" if is_path else \"ERROR:\"} Path to {\"file\" if file else \"folder\"} {path} does{\"\" if is_path else \" NOT\"} exist')\n",
    "\n",
    "    return is_path\n"
   ]
  },
  {
   "cell_type": "code",
   "execution_count": 3,
   "id": "676a6c7c-b050-4732-9e23-26900d3bb47c",
   "metadata": {
    "tags": []
   },
   "outputs": [
    {
     "name": "stdout",
     "output_type": "stream",
     "text": [
      "OK: Path to folder /Users/joseulloa/Data/ISPY2 does exist\n"
     ]
    }
   ],
   "source": [
    "HOMEPATH = getenv()\n",
    "DATAPATH = os.path.join(HOMEPATH, 'Data', 'fMRIBreastData')\n",
    "# Check whether the DATAPATH route exists or not:\n",
    "_ = check_path_exist(DATAPATH)\n"
   ]
  },
  {
   "cell_type": "code",
   "execution_count": 4,
   "id": "8f30ea9c-8a40-4d80-b731-ca3652fb01e0",
   "metadata": {
    "tags": []
   },
   "outputs": [
    {
     "name": "stdout",
     "output_type": "stream",
     "text": [
      "OK: Path to folder /Users/joseulloa/Data/ISPY2/rawS3 does exist\n",
      "Working directory is /Users/joseulloa/Data/ISPY2/rawS3\n",
      "Saving directory is /Users/joseulloa/Data/ISPY2/StudyData\n"
     ]
    }
   ],
   "source": [
    "SRCFLDR = os.path.join(DATAPATH, 'rawS3')\n",
    "# Check path exists or not:\n",
    "check_path_exist(SRCFLDR)\n",
    "\n",
    "DSTFLDR = os.path.join(DATAPATH, 'StudyData')\n",
    "# if DSTFLDR does not exist, creates one (otherwise, it doesn't do anything):\n",
    "os.makedirs(DSTFLDR, exist_ok=True)\n",
    "FEXT = 'dcm'\n",
    "\n",
    "print(f'Working directory is {SRCFLDR}')\n",
    "print(f'Saving directory is {DSTFLDR}')\n"
   ]
  },
  {
   "cell_type": "code",
   "execution_count": 5,
   "id": "9a6b7306-c619-45f8-8267-7fdd64b67e61",
   "metadata": {
    "tags": []
   },
   "outputs": [
    {
     "name": "stdout",
     "output_type": "stream",
     "text": [
      "There are 717195 files in /Users/joseulloa/Data/ISPY2/rawS3\n"
     ]
    }
   ],
   "source": [
    "dcmlist = glob.glob(os.path.join(SRCFLDR,f'*.{FEXT}'))\n",
    "print(f'There are {len(dcmlist)} files in {SRCFLDR}')\n"
   ]
  },
  {
   "cell_type": "code",
   "execution_count": 6,
   "id": "85dcf8af-f393-4831-89fa-9be87c85351f",
   "metadata": {
    "tags": []
   },
   "outputs": [
    {
     "name": "stdout",
     "output_type": "stream",
     "text": [
      "Processing DICOM list at /Users/joseulloa/Data/ISPY2/rawS3. Please wait...\n",
      "\t717195 files to process...\n"
     ]
    },
    {
     "ename": "AttributeError",
     "evalue": "'FileDataset' object has no attribute 'TemporalPositionIdentifier'",
     "output_type": "error",
     "traceback": [
      "\u001b[0;31m---------------------------------------------------------------------------\u001b[0m",
      "\u001b[0;31mAttributeError\u001b[0m                            Traceback (most recent call last)",
      "Cell \u001b[0;32mIn[6], line 22\u001b[0m\n\u001b[1;32m     14\u001b[0m     \u001b[38;5;28mprint\u001b[39m(\u001b[38;5;124mf\u001b[39m\u001b[38;5;124m'\u001b[39m\u001b[38;5;130;01m\\t\u001b[39;00m\u001b[38;5;132;01m{\u001b[39;00mnels\u001b[38;5;241m-\u001b[39mnimg\u001b[38;5;132;01m}\u001b[39;00m\u001b[38;5;124m files to process...\u001b[39m\u001b[38;5;124m'\u001b[39m)\n\u001b[1;32m     16\u001b[0m ds \u001b[38;5;241m=\u001b[39m pydicom\u001b[38;5;241m.\u001b[39mdcmread(dcm,stop_before_pixels\u001b[38;5;241m=\u001b[39m\u001b[38;5;28;01mTrue\u001b[39;00m)    \n\u001b[1;32m     17\u001b[0m [PatientID, \n\u001b[1;32m     18\u001b[0m  PatientName, \n\u001b[1;32m     19\u001b[0m  StudyDate, \n\u001b[1;32m     20\u001b[0m  SeriesNro, \n\u001b[1;32m     21\u001b[0m  TempPos] \u001b[38;5;241m=\u001b[39m [ds\u001b[38;5;241m.\u001b[39mPatientID, \u001b[38;5;28mstr\u001b[39m(ds\u001b[38;5;241m.\u001b[39mPatientName), ds\u001b[38;5;241m.\u001b[39mStudyDate, \n\u001b[0;32m---> 22\u001b[0m              \u001b[38;5;28mstr\u001b[39m(ds\u001b[38;5;241m.\u001b[39mSeriesNumber), \u001b[38;5;28mstr\u001b[39m(\u001b[43mds\u001b[49m\u001b[38;5;241;43m.\u001b[39;49m\u001b[43mTemporalPositionIdentifier\u001b[49m)]\n\u001b[1;32m     24\u001b[0m name_as_list \u001b[38;5;241m=\u001b[39m PatientName\u001b[38;5;241m.\u001b[39msplit(\u001b[38;5;124m'\u001b[39m\u001b[38;5;124m \u001b[39m\u001b[38;5;124m'\u001b[39m)\n\u001b[1;32m     25\u001b[0m \u001b[38;5;66;03m# remove multiple spaces:\u001b[39;00m\n",
      "File \u001b[0;32m~/.virtualenvs/isandex/lib/python3.10/site-packages/pydicom/dataset.py:908\u001b[0m, in \u001b[0;36mDataset.__getattr__\u001b[0;34m(self, name)\u001b[0m\n\u001b[1;32m    906\u001b[0m     \u001b[38;5;28;01mreturn\u001b[39;00m {}\n\u001b[1;32m    907\u001b[0m \u001b[38;5;66;03m# Try the base class attribute getter (fix for issue 332)\u001b[39;00m\n\u001b[0;32m--> 908\u001b[0m \u001b[38;5;28;01mreturn\u001b[39;00m \u001b[38;5;28;43mobject\u001b[39;49m\u001b[38;5;241;43m.\u001b[39;49m\u001b[38;5;21;43m__getattribute__\u001b[39;49m\u001b[43m(\u001b[49m\u001b[38;5;28;43mself\u001b[39;49m\u001b[43m,\u001b[49m\u001b[43m \u001b[49m\u001b[43mname\u001b[49m\u001b[43m)\u001b[49m\n",
      "\u001b[0;31mAttributeError\u001b[0m: 'FileDataset' object has no attribute 'TemporalPositionIdentifier'"
     ]
    }
   ],
   "source": [
    "# Sort out dicom files following this order:\n",
    "# PatientID () --> Not used\n",
    "# PatientName () --> Use this as it is also used by Nasib, so to keep consistency\n",
    "# StudyID () --> Not needed\n",
    "# StudyDate () --> This defines the pre- and post-treatment (just the earliest is pre- and the latest is post-)\n",
    "# SeriesNro () --> This is relevant to later eliminate any possible in-scanner post-processed data\n",
    "# SeriesDescription ()\n",
    "print(f'Processing DICOM list at {SRCFLDR}. Please wait...')\n",
    "nels = len(dcmlist)\n",
    "nsteps = 10**math.floor(math.log10(0.01*nels)+1)\n",
    "start_time = perf_counter()\n",
    "for nimg, dcm in enumerate(dcmlist):\n",
    "    if (nimg % nsteps)==0:\n",
    "        print(f'\\t{nels-nimg} files to process...')\n",
    "\n",
    "    ds = pydicom.dcmread(dcm,stop_before_pixels=True)    \n",
    "    [PatientID, \n",
    "     PatientName, \n",
    "     StudyDate, \n",
    "     SeriesNro, \n",
    "     TempPos] = [ds.PatientID, str(ds.PatientName), ds.StudyDate, \n",
    "                 str(ds.SeriesNumber), str(ds.TemporalPositionIdentifier)]\n",
    "    \n",
    "    name_as_list = PatientName.split(' ')\n",
    "    # remove multiple spaces:\n",
    "    name_no_space = [i for i in name_as_list if i != '']\n",
    "    # From the second element onward, use camel-case:\n",
    "    name_camel_case = [i.title().replace('Treatmensst','Treatment') if idx>0 else i for idx, i in enumerate(name_no_space)]\n",
    "    # Re-Join the name with a dash instead of (multiple) spaces:\n",
    "    PatientName = '-'.join(name_camel_case)\n",
    "    folderStruct = os.path.join(DSTFLDR,\n",
    "                                '-'.join([PatientName[:PatientName.find('-')], \n",
    "                                          PatientID]),\n",
    "                                '-'.join([PatientName.replace(' ','_'),\n",
    "                                          StudyDate.replace(' ','_')]), \n",
    "                                SeriesNro.replace(' ','_'), \n",
    "                                TempPos.replace(' ','_'))\n",
    "    os.makedirs(folderStruct, exist_ok=True)\n",
    "    dstFile = os.path.join(folderStruct, os.path.split(dcm)[-1])\n",
    "    if not os.path.isfile(dstFile):\n",
    "        shutil.copy2(dcm, dstFile)\n",
    "    else:\n",
    "        print(f'File {dstFile}, already exists. Nothing done')\n",
    "end_time = perf_counter()\n",
    "elp_time = end_time - start_time        \n",
    "print(f'All done (Elapsed time was {elp_time:.1f}[s]). Check the folders to see the results. Bye!')\n"
   ]
  },
  {
   "cell_type": "code",
   "execution_count": null,
   "id": "1bb55d18",
   "metadata": {},
   "outputs": [],
   "source": []
  }
 ],
 "metadata": {
  "kernelspec": {
   "display_name": "Python 3 (ipykernel)",
   "language": "python",
   "name": "python3"
  },
  "language_info": {
   "codemirror_mode": {
    "name": "ipython",
    "version": 3
   },
   "file_extension": ".py",
   "mimetype": "text/x-python",
   "name": "python",
   "nbconvert_exporter": "python",
   "pygments_lexer": "ipython3",
   "version": "3.10.14"
  }
 },
 "nbformat": 4,
 "nbformat_minor": 5
}
