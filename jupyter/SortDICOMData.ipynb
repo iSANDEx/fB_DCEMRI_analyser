{
 "cells": [
  {
   "cell_type": "code",
   "execution_count": 31,
   "id": "c6517ab4-4317-43a0-ba10-24ba02085030",
   "metadata": {
    "tags": []
   },
   "outputs": [],
   "source": [
    "import os\n",
    "import glob\n",
    "import shutil\n",
    "import pydicom"
   ]
  },
  {
   "cell_type": "code",
   "execution_count": 32,
   "id": "676a6c7c-b050-4732-9e23-26900d3bb47c",
   "metadata": {
    "tags": []
   },
   "outputs": [],
   "source": [
    "HOMEPATH = os.getenv('HOME')\n",
    "DATAPATH = os.path.join(HOMEPATH, 'Data', 'testfMRIBreastData')"
   ]
  },
  {
   "cell_type": "code",
   "execution_count": 33,
   "id": "8f30ea9c-8a40-4d80-b731-ca3652fb01e0",
   "metadata": {
    "tags": []
   },
   "outputs": [
    {
     "name": "stdout",
     "output_type": "stream",
     "text": [
      "Working directory is /Users/joseulloa/Data/testfMRIBreastData/rawS3\n",
      "Saving directory is /Users/joseulloa/Data/testfMRIBreastData/StudyData\n"
     ]
    }
   ],
   "source": [
    "SRCFLDR = os.path.join(DATAPATH, 'rawS3')\n",
    "DSTFLDR = os.path.join(DATAPATH, 'StudyData')\n",
    "FEXT = 'dcm'\n",
    "\n",
    "print(f'Working directory is {SRCFLDR}')\n",
    "print(f'Saving directory is {DSTFLDR}')"
   ]
  },
  {
   "cell_type": "code",
   "execution_count": 34,
   "id": "9a6b7306-c619-45f8-8267-7fdd64b67e61",
   "metadata": {
    "tags": []
   },
   "outputs": [
    {
     "name": "stdout",
     "output_type": "stream",
     "text": [
      "There are 12600 files in /Users/joseulloa/Data/testfMRIBreastData/rawS3\n"
     ]
    }
   ],
   "source": [
    "dcmlist = glob.glob(os.path.join(SRCFLDR,f'*.{FEXT}'))\n",
    "print(f'There are {len(dcmlist)} files in {SRCFLDR}')"
   ]
  },
  {
   "cell_type": "code",
   "execution_count": 39,
   "id": "85dcf8af-f393-4831-89fa-9be87c85351f",
   "metadata": {
    "tags": []
   },
   "outputs": [],
   "source": [
    "# Sort out dicom files following this order:\n",
    "# PatientID ()\n",
    "# PatientName ()\n",
    "# StudyID ()\n",
    "# StudyDate ()\n",
    "# SeriesNro ()\n",
    "# SeriesDescription ()\n",
    "os.makedirs(DSTFLDR, exist_ok=True)\n",
    "for dcm in dcmlist:\n",
    "    ds = pydicom.dcmread(dcm,stop_before_pixels=True)\n",
    "    # if (0x0018,0x0010) in ds:\n",
    "    #     SubSeries = ds.ContrastBolusAgent\n",
    "    #     if not SubSeries:\n",
    "    #         SubSeries = 'NoContrast'\n",
    "    # else:\n",
    "    #     SubSeries = 'NoContrast'\n",
    "    [PatientID, StudyID, StudyDate, SeriesNro, TempPos] = [ds.PatientID, \n",
    "                                                           ds.StudyID, \n",
    "                                                           ds.StudyDate, \n",
    "                                                           str(ds.SeriesNumber), \n",
    "                                                           str(ds.TemporalPositionIdentifier)]\n",
    "    folderStruct = os.path.join(DSTFLDR, \n",
    "                                PatientID.replace(' ','_'), \n",
    "                                StudyID.replace(' ','_'), \n",
    "                                StudyDate.replace(' ','_'), \n",
    "                                SeriesNro.replace(' ','_'), \n",
    "                                # SubSeries.replace(' ','_'),\n",
    "                                TempPos.replace(' ','_'))\n",
    "    os.makedirs(folderStruct, exist_ok=True)\n",
    "    dstFile = os.path.join(folderStruct, os.path.split(dcm)[-1])\n",
    "    if not os.path.isfile(dstFile):\n",
    "        shutil.copy2(dcm, dstFile)\n"
   ]
  }
 ],
 "metadata": {
  "kernelspec": {
   "display_name": "Python 3 (ipykernel)",
   "language": "python",
   "name": "python3"
  },
  "language_info": {
   "codemirror_mode": {
    "name": "ipython",
    "version": 3
   },
   "file_extension": ".py",
   "mimetype": "text/x-python",
   "name": "python",
   "nbconvert_exporter": "python",
   "pygments_lexer": "ipython3",
   "version": "3.9.6"
  }
 },
 "nbformat": 4,
 "nbformat_minor": 5
}
