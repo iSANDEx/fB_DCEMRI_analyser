{
 "cells": [
  {
   "cell_type": "code",
   "execution_count": 1,
   "id": "4382f573-24ad-4d1c-b724-39c54384a77f",
   "metadata": {
    "tags": []
   },
   "outputs": [],
   "source": [
    "import os\n",
    "import time\n",
    "import ants\n",
    "import glob\n",
    "import shutil\n",
    "import numpy as np\n",
    "# import pydicom as pyd\n",
    "# import dicom2nifti\n",
    "from directory_tree import display_tree  # Nice tool to display directory trees (https://pypi.org/project/directory-tree/)\n",
    "\n",
    "from datetime import timedelta"
   ]
  },
  {
   "cell_type": "code",
   "execution_count": 2,
   "id": "476f62b0-67a7-4a8b-82a2-6274d9562793",
   "metadata": {
    "tags": []
   },
   "outputs": [],
   "source": [
    "def list_folder_content(path, show_hidden=False):\n",
    "    if show_hidden:\n",
    "        ddfldrlst = os.listdir(path)\n",
    "    else:\n",
    "        ddfldrlst = list(filter(lambda item: not item.startswith('.'),os.listdir(path)))      \n",
    "    return ddfldrlst\n",
    "\n",
    "def display_folder_list(file_list):\n",
    "    print('\\n'.join(f'[{idx}] - {file_idx}' for idx, file_idx in enumerate(file_list)))\n",
    "\n",
    "def get_path_to_process(full_path):\n",
    "    print('Folder content:')\n",
    "    print(display_tree(full_path, header=True, string_rep=True, show_hidden=False, max_depth=2))\n",
    "    folder_content = list_folder_content(full_path)\n",
    "    # Ideally we'll have only one sub-folder inside the PreTreatment folder. If more than one, then we have to choose, but by default, we'll select the first one.\n",
    "    idx_reg = 0\n",
    "    if len(folder_content) > 1:\n",
    "        display_folder_list(folder_content)\n",
    "        idx_sel = input(f'Select the folder with the dataset_to_process to process (0-{len(folder_content)-1} or just press Enter to proceed with sub-folder {folder_content[idx_reg]}):')\n",
    "        if idx_sel:\n",
    "            idx_reg = int(idx_sel)\n",
    "    path2data = os.path.join(full_path, folder_content[idx_reg])\n",
    "    print(f'Will process {folder_content[idx_reg]}')\n",
    "    return path2data\n",
    "\n",
    "def check_time_points(path_to_check, nmax = 6):\n",
    "    if path_to_check is not None:\n",
    "        nr_of_folders = list_folder_content(path_to_check)\n",
    "        print('Folder seems Ok:' if len(nr_of_folders)== nmax else f'Error! Check path {path_to_check} is the correct one:')\n",
    "        display_tree(path_to_check, max_depth=1)\n",
    "        return nr_of_folders if len(nr_of_folders) == nmax else None\n",
    "    else:\n",
    "        return None\n",
    "\n",
    "def add_prefix_to_filename(full_path, prefix=None):\n",
    "    # Assume the last part of the path is the filename (with extension)\n",
    "    file_path, file_name_ext = os.path.split(full_path)\n",
    "    if prefix:\n",
    "        updated_filename = '_'.join([prefix, file_name_ext])\n",
    "        return os.path.join(file_path, updated_filename)\n",
    "    else:\n",
    "        return prefix"
   ]
  },
  {
   "cell_type": "code",
   "execution_count": 3,
   "id": "be4383db-cc72-43bf-b968-9411cbf170b3",
   "metadata": {
    "tags": []
   },
   "outputs": [],
   "source": [
    "HOMEPATH = os.getenv('HOME')\n",
    "SRCPATH = os.path.join(HOMEPATH, 'Data', 'fMRIBreastData')\n",
    "\n",
    "NIFTISRCFLDR = 'NiftiData'\n",
    "OUTPUTFLDR = 'ANTsReg'\n",
    "CONFIGFLDR = 'configFiles'\n",
    "\n",
    "studypath = os.path.join(SRCPATH, NIFTISRCFLDR)\n",
    "savepath = os.path.join(SRCPATH, OUTPUTFLDR)\n",
    "cfgpath = os.path.join(SRCPATH, CONFIGFLDR)\n",
    "# Check whether the folder SAVEPATH exists or not, if not, attempts to create it\n",
    "os.makedirs(savepath, exist_ok=True)"
   ]
  },
  {
   "cell_type": "code",
   "execution_count": 4,
   "id": "e89b684b-ef57-433e-a3d3-de6e959b4fcc",
   "metadata": {
    "tags": []
   },
   "outputs": [],
   "source": [
    "DEBUGMODE = False"
   ]
  },
  {
   "cell_type": "code",
   "execution_count": 5,
   "id": "ddb3d410-d52b-4273-b025-b3f29e367659",
   "metadata": {
    "tags": []
   },
   "outputs": [
    {
     "name": "stdout",
     "output_type": "stream",
     "text": [
      "Patient data folders:\n",
      "[0] - ANON18218\n",
      "[1] - ANON89073\n",
      "[2] - ANON98269\n",
      "[3] - ANON68760\n",
      "[4] - ANON97378\n",
      "[5] - RICE001\n",
      "[6] - ANON99397\n"
     ]
    },
    {
     "name": "stdin",
     "output_type": "stream",
     "text": [
      "Select a patient index (0-6) 4\n"
     ]
    }
   ],
   "source": [
    "patients = list_folder_content(studypath)\n",
    "print('Patient data folders:')\n",
    "display_folder_list(patients)\n",
    "idx_sel = int(input(f'Select a patient index (0-{len(patients)-1})'))\n",
    "if idx_sel > len(patients)-1:\n",
    "    print(f'ERROR!: Selected index {idx_sel} is out of range for the PATIENTS list (it must be ≤{len(patients)-1})')"
   ]
  },
  {
   "cell_type": "code",
   "execution_count": 6,
   "id": "6853220c-88fb-434d-81a7-b57cb03b2202",
   "metadata": {
    "tags": []
   },
   "outputs": [
    {
     "name": "stdout",
     "output_type": "stream",
     "text": [
      "ANON97378/\n",
      "└── ANON18218/\n",
      "    ├── 20230621/\n",
      "    │   └── 301/\n",
      "    │       ├── 1/\n",
      "    │       ├── 2/\n",
      "    │       ├── 3/\n",
      "    │       ├── 4/\n",
      "    │       ├── 5/\n",
      "    │       └── 6/\n",
      "    └── 20230726/\n",
      "        └── 301/\n",
      "            ├── 1/\n",
      "            ├── 2/\n",
      "            ├── 3/\n",
      "            ├── 4/\n",
      "            ├── 5/\n",
      "            └── 6/\n",
      "\n"
     ]
    }
   ],
   "source": [
    "patient = patients[idx_sel]\n",
    "data_patient = os.path.join(studypath, patient)\n",
    "print(display_tree(data_patient, header=True, string_rep=True, show_hidden=False, max_depth=4))"
   ]
  },
  {
   "cell_type": "code",
   "execution_count": 7,
   "id": "e26bf05f-ac3f-4d25-93bc-a1000e21d34c",
   "metadata": {
    "tags": []
   },
   "outputs": [
    {
     "name": "stdin",
     "output_type": "stream",
     "text": [
      "If there is a sub-folder between the PATIENT and VISITS, type it here (if there is no, leave it blank and press ENTER): ANON18218\n"
     ]
    },
    {
     "name": "stdout",
     "output_type": "stream",
     "text": [
      "There are 2 visits from patient ANON97378:\n",
      "[0] - 20230621\n",
      "[1] - 20230726\n",
      "The earliest visit is the pre-treatment and the latest, the post-treatment. If there is only one visit, we assume it is the pre-treatment\n"
     ]
    }
   ],
   "source": [
    "prefix_folder = input('If there is a sub-folder between the PATIENT and VISITS, type it here (if there is no, leave it blank and press ENTER):')\n",
    "patient_path = os.path.join(data_patient, prefix_folder)\n",
    "visits = list_folder_content(patient_path)\n",
    "print(f'There are {len(visits)} visit{\"s\" if len(visits)>1 else \"\"} from patient {patient}:')\n",
    "display_folder_list(visits)\n",
    "print('The earliest visit is the pre-treatment and the latest, the post-treatment. If there is only one visit, we assume it is the pre-treatment')"
   ]
  },
  {
   "cell_type": "code",
   "execution_count": 8,
   "id": "6cfdc086-8bbe-4aa6-93e6-678b9a4029d5",
   "metadata": {
    "tags": []
   },
   "outputs": [
    {
     "name": "stdout",
     "output_type": "stream",
     "text": [
      "PreTreatment Folder: 20230621\n",
      "PostTreatment Folder: 20230726\n"
     ]
    }
   ],
   "source": [
    "visit_dates = [int(visit) for visit in visits]\n",
    "indices = [ elem[0] for elem in sorted( enumerate(visit_dates), key = lambda pair : pair[1] )]\n",
    "data_visits = {'PreTreatment':''}\n",
    "if len(visits) > 1:\n",
    "    data_visits['PostTreatment'] = ''\n",
    "    \n",
    "for idx, idvisit in enumerate(data_visits):\n",
    "    data_visits[idvisit] = visits[indices[idx]]\n",
    "\n",
    "if len(data_visits) < 2:\n",
    "    data_visits['PostTreatment'] = None\n",
    "print('\\n'.join([f'{visit} Folder: {date}' for visit, date in data_visits.items()]))"
   ]
  },
  {
   "cell_type": "code",
   "execution_count": 9,
   "id": "d8f71831-e80f-4885-b4c7-75cd8c89e22e",
   "metadata": {
    "tags": []
   },
   "outputs": [
    {
     "name": "stdout",
     "output_type": "stream",
     "text": [
      "Select Pre-treatment dataset_to_process:\n",
      "Folder content:\n",
      "20230621/\n",
      "└── 301/\n",
      "    ├── 1/\n",
      "    ├── 2/\n",
      "    ├── 3/\n",
      "    ├── 4/\n",
      "    ├── 5/\n",
      "    └── 6/\n",
      "\n",
      "Will process 301\n",
      "§§§§§§§§§§§§§§§§§§§§§§§§§§§§§§§§§§§§§§§§§§§§§§§§§§§§§§§§§§§§§§§§§§§§§§§§§§§§§§§§§§§§§§§§§§§§§§§§§§§§\n",
      "Select Post-treatment dataset_to_process:\n",
      "Folder content:\n",
      "20230726/\n",
      "└── 301/\n",
      "    ├── 1/\n",
      "    ├── 2/\n",
      "    ├── 3/\n",
      "    ├── 4/\n",
      "    ├── 5/\n",
      "    └── 6/\n",
      "\n",
      "Will process 301\n"
     ]
    }
   ],
   "source": [
    "# Pre-Treatment Registration\n",
    "print('Select Pre-treatment dataset_to_process:')\n",
    "pre_treatment_path = os.path.join(patient_path, data_visits['PreTreatment'])\n",
    "pre_treat_data_path = get_path_to_process(pre_treatment_path)\n",
    "\n",
    "# Post-Treatment Registration (only if there is data available)\n",
    "print(''.join(['§']*100))\n",
    "print('Select Post-treatment dataset_to_process:')\n",
    "if data_visits['PostTreatment'] != None:\n",
    "    post_treatment_path = os.path.join(patient_path, data_visits['PostTreatment'])\n",
    "    post_treat_data_path = get_path_to_process(post_treatment_path)\n",
    "else:\n",
    "    post_treatment_path = None\n",
    "    post_treat_data_path = None\n",
    "    print('Nothing to process')"
   ]
  },
  {
   "cell_type": "markdown",
   "id": "9ba749eb-3b1e-43b2-9d8a-b16eaa8b043b",
   "metadata": {
    "tags": []
   },
   "source": [
    "We're interested only in the DCEMRI data. There should be 6 sub-folder labelled 1-6, where each one represent a 3D volume on a timepoint:\n",
    "* 1: pre-contrast\n",
    "* 2-6: post-contrast\n"
   ]
  },
  {
   "cell_type": "code",
   "execution_count": 10,
   "id": "39d24859-2d84-4535-aa97-f375b0c1a66f",
   "metadata": {
    "tags": []
   },
   "outputs": [
    {
     "name": "stdout",
     "output_type": "stream",
     "text": [
      "Folder seems Ok:\n",
      "301/\n",
      "├── 1/\n",
      "├── 2/\n",
      "├── 3/\n",
      "├── 4/\n",
      "├── 5/\n",
      "└── 6/\n",
      "Folder seems Ok:\n",
      "301/\n",
      "├── 1/\n",
      "├── 2/\n",
      "├── 3/\n",
      "├── 4/\n",
      "├── 5/\n",
      "└── 6/\n"
     ]
    }
   ],
   "source": [
    "# Check the selected folders contains the 6 timepoints\n",
    "visit_desc = {'PreTreatment': {'timepoints': check_time_points(pre_treat_data_path),\n",
    "                              'datapath': pre_treat_data_path},\n",
    "             'PostTreatment': {'timepoints': check_time_points(post_treat_data_path),\n",
    "                               'datapath': post_treat_data_path}\n",
    "             }"
   ]
  },
  {
   "cell_type": "code",
   "execution_count": 11,
   "id": "91aa2474-213d-42bd-886f-5441a3539125",
   "metadata": {
    "tags": []
   },
   "outputs": [
    {
     "name": "stdout",
     "output_type": "stream",
     "text": [
      "Processing dataset_to_process /Users/joseulloa/Data/fMRIBreastData/NiftiData/ANON97378/ANON18218\n",
      "Loading images from PreTreatment folder...\n",
      "TimePoint 6, Datafile: 301_dyn_ethrive.nii.gz\n",
      "Loading image volume ...\n",
      "TimePoint 1, Datafile: 301_dyn_ethrive.nii.gz\n",
      "Loading image volume ...\n",
      "TimePoint 4, Datafile: 301_dyn_ethrive.nii.gz\n",
      "Loading image volume ...\n",
      "TimePoint 3, Datafile: 301_dyn_ethrive.nii.gz\n",
      "Loading image volume ...\n",
      "TimePoint 2, Datafile: 301_dyn_ethrive.nii.gz\n",
      "Loading image volume ...\n",
      "TimePoint 5, Datafile: 301_dyn_ethrive.nii.gz\n",
      "Loading image volume ...\n",
      "§§§§§§§§§§§§§§§§§§§§§§§§§§§§§§§§§§§§§§§§§§§§§§§§§§§§§§§§§§§§§§§§§§§§§§§§§§§§§§§§§§§§§§§§§§§§§§§§§§§§\n",
      "Loading images from PostTreatment folder...\n",
      "TimePoint 6, Datafile: 301_dyn_ethrive.nii.gz\n",
      "Loading image volume ...\n",
      "TimePoint 1, Datafile: 301_dyn_ethrive.nii.gz\n",
      "Loading image volume ...\n",
      "TimePoint 4, Datafile: 301_dyn_ethrive.nii.gz\n",
      "Loading image volume ...\n",
      "TimePoint 3, Datafile: 301_dyn_ethrive.nii.gz\n",
      "Loading image volume ...\n",
      "TimePoint 2, Datafile: 301_dyn_ethrive.nii.gz\n",
      "Loading image volume ...\n",
      "TimePoint 5, Datafile: 301_dyn_ethrive.nii.gz\n",
      "Loading image volume ...\n",
      "§§§§§§§§§§§§§§§§§§§§§§§§§§§§§§§§§§§§§§§§§§§§§§§§§§§§§§§§§§§§§§§§§§§§§§§§§§§§§§§§§§§§§§§§§§§§§§§§§§§§\n",
      "Finished loading the data\n"
     ]
    }
   ],
   "source": [
    "# Load the data (Nifti format) using ANTs\n",
    "print(f'Processing dataset_to_process {patient_path}')\n",
    "dataset_to_process = {'PatientID': patient,\n",
    "           'PreTreatment': {},\n",
    "           'PostTreatment': {}\n",
    "          }\n",
    "# By default, we consider the first timepoint (i.e pre-contrast) to be the Fixed image (or reference Space), but it can be changed here, by setting the index to any other timepoint\n",
    "fixed_volume_pos = 1  # It is a position, not an index, that's why start from 1 instead of 0\n",
    "\n",
    "# All other images in the timeseries will be labelled as \"moving\"    \n",
    "for visit_name, description in visit_desc.items():\n",
    "    if description['datapath'] is not None:\n",
    "        print(f'Loading images from {visit_name} folder...')\n",
    "        for idx_data in description['timepoints']:\n",
    "            dataset_to_process[visit_name][idx_data] = {}\n",
    "            nii_filepath = os.path.join(description['datapath'], idx_data)\n",
    "            nii_files = list_folder_content(nii_filepath)\n",
    "            if len(nii_files) > 1:\n",
    "                print(f'WARNING!: Folder {nii_filepath} seems to have more than one volume:')\n",
    "                display_folder_list(nii_files)\n",
    "                break\n",
    "            print(f'TimePoint {idx_data}, Datafile: {nii_files[0]}')\n",
    "            print(f'Loading image volume ...')\n",
    "            dataset_to_process[visit_name][idx_data]['path'] = os.path.join(description['datapath'], idx_data, nii_files[0])\n",
    "            dataset_to_process[visit_name][idx_data]['img_data'] = ants.image_read(dataset_to_process[visit_name][idx_data]['path'])\n",
    "            dataset_to_process[visit_name][idx_data]['time_point'] = int(idx_data)\n",
    "            if idx_data == '1':\n",
    "                dataset_to_process[visit_name][idx_data]['DCE_ref'] = 'Pre-Contrast'\n",
    "            else:\n",
    "                dataset_to_process[visit_name][idx_data]['DCE_ref'] = 'Post-Contrast'\n",
    "\n",
    "            if int(idx_data) == fixed_volume_pos:\n",
    "                dataset_to_process[visit_name][idx_data]['reg_ref'] = 'Fixed'\n",
    "            else:\n",
    "                dataset_to_process[visit_name][idx_data]['reg_ref'] = 'Moving'\n",
    "        print(''.join(['§']*100))\n",
    "        if DEBUGMODE:\n",
    "            print(dataset_to_process)\n",
    "print('Finished loading the data')"
   ]
  },
  {
   "cell_type": "code",
   "execution_count": 12,
   "id": "c15afda4-516e-4fd5-b001-25d7861b8724",
   "metadata": {},
   "outputs": [],
   "source": [
    "# Registration parameters (this is the meat of the work!)\n",
    "# For details about possible values and description of parameters, see the help page: https://antspy.readthedocs.io/en/latest/registration.html\n",
    "# Default values (as listed in the hep page)\n",
    "par_set = {'type_of_transform': 'SyN', \n",
    "               'initial_transform': None, \n",
    "               'outprefix': '', \n",
    "               'mask': None, \n",
    "               'moving_mask': None, \n",
    "               'mask_all_stages': False, \n",
    "               'grad_step': 0.2, \n",
    "               'flow_sigma': 3, \n",
    "               'total_sigma': 0, \n",
    "               'aff_metric': 'mattes', \n",
    "               'aff_sampling': 32, \n",
    "               'aff_random_sampling_rate': 0.2, \n",
    "               'syn_metric': 'mattes', \n",
    "               'syn_sampling': 32, \n",
    "               'reg_iterations': (40, 20, 0), \n",
    "               'aff_iterations': (2100, 1200, 1200, 10), \n",
    "               'aff_shrink_factors': (6, 4, 2, 1), \n",
    "               'aff_smoothing_sigmas': (3, 2, 1, 0), \n",
    "               'write_composite_transform': False, \n",
    "               'random_seed': None}\n",
    "\n",
    "# To ensure reproducibility of the results, set the random_seed to a constant value:\n",
    "par_set['random_seed'] = 42 #(just to keep along with the pop-culture reference, e.g. https://medium.com/geekculture/the-story-behind-random-seed-42-in-machine-learning-b838c4ac290a"
   ]
  },
  {
   "cell_type": "code",
   "execution_count": 13,
   "id": "d3334495-9d64-47c7-b932-11066e15f0f6",
   "metadata": {
    "tags": []
   },
   "outputs": [
    {
     "name": "stdout",
     "output_type": "stream",
     "text": [
      "Selecting FIXED and MOVING dataset_to_processs from patient ANON97378 - PreTreatment visit...\n",
      "Moving image is: /Users/joseulloa/Data/fMRIBreastData/NiftiData/ANON97378/ANON18218/20230621/301/6/301_dyn_ethrive.nii.gz\n",
      "Fixed image is: /Users/joseulloa/Data/fMRIBreastData/NiftiData/ANON97378/ANON18218/20230621/301/1/301_dyn_ethrive.nii.gz\n",
      "Moving image is: /Users/joseulloa/Data/fMRIBreastData/NiftiData/ANON97378/ANON18218/20230621/301/4/301_dyn_ethrive.nii.gz\n",
      "Moving image is: /Users/joseulloa/Data/fMRIBreastData/NiftiData/ANON97378/ANON18218/20230621/301/3/301_dyn_ethrive.nii.gz\n",
      "Moving image is: /Users/joseulloa/Data/fMRIBreastData/NiftiData/ANON97378/ANON18218/20230621/301/2/301_dyn_ethrive.nii.gz\n",
      "Moving image is: /Users/joseulloa/Data/fMRIBreastData/NiftiData/ANON97378/ANON18218/20230621/301/5/301_dyn_ethrive.nii.gz\n",
      "§§§§§§§§§§§§§§§§§§§§§§§§§§§§§§§§§§§§§§§§§§§§§§§§§§§§§§§§§§§§§§§§§§§§§§§§§§§§§§§§§§§§§§§§§§§§§§§§§§§§\n",
      "Selecting FIXED and MOVING dataset_to_processs from patient ANON97378 - PostTreatment visit...\n",
      "Moving image is: /Users/joseulloa/Data/fMRIBreastData/NiftiData/ANON97378/ANON18218/20230726/301/6/301_dyn_ethrive.nii.gz\n",
      "Fixed image is: /Users/joseulloa/Data/fMRIBreastData/NiftiData/ANON97378/ANON18218/20230726/301/1/301_dyn_ethrive.nii.gz\n",
      "Moving image is: /Users/joseulloa/Data/fMRIBreastData/NiftiData/ANON97378/ANON18218/20230726/301/4/301_dyn_ethrive.nii.gz\n",
      "Moving image is: /Users/joseulloa/Data/fMRIBreastData/NiftiData/ANON97378/ANON18218/20230726/301/3/301_dyn_ethrive.nii.gz\n",
      "Moving image is: /Users/joseulloa/Data/fMRIBreastData/NiftiData/ANON97378/ANON18218/20230726/301/2/301_dyn_ethrive.nii.gz\n",
      "Moving image is: /Users/joseulloa/Data/fMRIBreastData/NiftiData/ANON97378/ANON18218/20230726/301/5/301_dyn_ethrive.nii.gz\n",
      "§§§§§§§§§§§§§§§§§§§§§§§§§§§§§§§§§§§§§§§§§§§§§§§§§§§§§§§§§§§§§§§§§§§§§§§§§§§§§§§§§§§§§§§§§§§§§§§§§§§§\n",
      "Finished preparing the data for running the registration process\n"
     ]
    }
   ],
   "source": [
    "moving_dataset = {'PreTreatment': {},\n",
    "             'PostTreatment': {}\n",
    "            }\n",
    "fixed_dataset = {'PreTreatment': {},\n",
    "             'PostTreatment': {}\n",
    "            }\n",
    "for visit_name, description in visit_desc.items():\n",
    "    if description['datapath'] is not None:\n",
    "        print(f'Selecting FIXED and MOVING dataset_to_processs from patient {patient} - {visit_name} visit...')\n",
    "        for timepoint, dataset_to_process_i in dataset_to_process[visit_name].items():\n",
    "            if (dataset_to_process_i['reg_ref']=='Fixed'):\n",
    "                print(f'Fixed image is: {dataset_to_process_i[\"path\"]}')\n",
    "                fixed_volume = dataset_to_process_i['img_data']\n",
    "                fixed_vol_source_path = dataset_to_process_i['path']\n",
    "                path_to_fixed_output_vol = add_prefix_to_filename(fixed_vol_source_path.replace(NIFTISRCFLDR,OUTPUTFLDR), prefix=f'TP{fixed_volume_pos:02d}_FIXED')\n",
    "                if DEBUGMODE:\n",
    "                    print(f'Fixed Image will saved as: {path_to_fixed_output_vol}')\n",
    "                    print(f'Create the output path: {os.path.split(path_to_fixed_output_vol)[0]}')\n",
    "                os.makedirs(os.path.split(path_to_fixed_output_vol)[0], exist_ok=True)\n",
    "                shutil.copy2(fixed_vol_source_path, path_to_fixed_output_vol)\n",
    "                fixed_dataset[visit_name] = {'fixed_volume': fixed_volume,\n",
    "                                       'fixed_vol_source_path': fixed_vol_source_path,\n",
    "                                       'path_to_fixed_output_vol': path_to_fixed_output_vol}\n",
    "            elif (dataset_to_process_i['reg_ref'] == 'Moving'):\n",
    "                print(f'Moving image is: {dataset_to_process_i[\"path\"]}')\n",
    "                moving_dataset[visit_name][dataset_to_process_i['time_point']] = {'moving_volume': dataset_to_process_i['img_data'],\n",
    "                                                   'moving_vol_source_path': dataset_to_process_i['path']}\n",
    "                path_to_moving_output_vol = add_prefix_to_filename(dataset_to_process_i['path'].replace(NIFTISRCFLDR,OUTPUTFLDR), prefix=f\"TP{dataset_to_process_i['time_point']:02d}_MOVED_WRT_TPOINT{fixed_volume_pos:02d}\")\n",
    "                moving_dataset[visit_name][dataset_to_process_i['time_point']]['path_to_moving_output_vols'] = path_to_moving_output_vol\n",
    "                if DEBUGMODE:\n",
    "                    print(f'Moving Image will saved as: {path_to_moving_output_vol}')\n",
    "                    print(f'Create the output path: {os.path.split(path_to_moving_output_vol)[0]}')\n",
    "                os.makedirs(os.path.split(path_to_moving_output_vol)[0], exist_ok=True)\n",
    "        print(''.join(['§']*100))\n",
    "print('Finished preparing the data for running the registration process')"
   ]
  },
  {
   "cell_type": "code",
   "execution_count": 14,
   "id": "30b22d45-867f-4107-94d2-c36785889146",
   "metadata": {
    "tags": []
   },
   "outputs": [
    {
     "name": "stdout",
     "output_type": "stream",
     "text": [
      "Registering PreTreatment dataset_to_process, please wait...\n",
      "Registering moving data at /Users/joseulloa/Data/fMRIBreastData/NiftiData/ANON97378/ANON18218/20230621/301/6/301_dyn_ethrive.nii.gz to fixed image at /Users/joseulloa/Data/fMRIBreastData/NiftiData/ANON97378/ANON18218/20230621/301/1/301_dyn_ethrive.nii.gz...\n",
      "Finished registration of /Users/joseulloa/Data/fMRIBreastData/NiftiData/ANON97378/ANON18218/20230621/301/6/301_dyn_ethrive.nii.gz\n",
      "Elapsed Time: 401.40[s] (0:06:41.403752)\n",
      "Saving output in /Users/joseulloa/Data/fMRIBreastData/ANTsReg/ANON97378/ANON18218/20230621/301/6/TP06_MOVED_WRT_TPOINT01_301_dyn_ethrive.nii.gz\n",
      "§§§§§§§§§§§§§§§§§§§§§§§§§§§§§§§§§§§§§§§§§§§§§§§§§§§§§§§§§§§§§§§§§§§§§§§§§§§§§§§§§§§§§§§§§§§§§§§§§§§§\n",
      "Registering moving data at /Users/joseulloa/Data/fMRIBreastData/NiftiData/ANON97378/ANON18218/20230621/301/4/301_dyn_ethrive.nii.gz to fixed image at /Users/joseulloa/Data/fMRIBreastData/NiftiData/ANON97378/ANON18218/20230621/301/1/301_dyn_ethrive.nii.gz...\n",
      "Finished registration of /Users/joseulloa/Data/fMRIBreastData/NiftiData/ANON97378/ANON18218/20230621/301/4/301_dyn_ethrive.nii.gz\n",
      "Elapsed Time: 416.61[s] (0:06:56.611482)\n",
      "Saving output in /Users/joseulloa/Data/fMRIBreastData/ANTsReg/ANON97378/ANON18218/20230621/301/4/TP04_MOVED_WRT_TPOINT01_301_dyn_ethrive.nii.gz\n",
      "§§§§§§§§§§§§§§§§§§§§§§§§§§§§§§§§§§§§§§§§§§§§§§§§§§§§§§§§§§§§§§§§§§§§§§§§§§§§§§§§§§§§§§§§§§§§§§§§§§§§\n",
      "Registering moving data at /Users/joseulloa/Data/fMRIBreastData/NiftiData/ANON97378/ANON18218/20230621/301/3/301_dyn_ethrive.nii.gz to fixed image at /Users/joseulloa/Data/fMRIBreastData/NiftiData/ANON97378/ANON18218/20230621/301/1/301_dyn_ethrive.nii.gz...\n",
      "Finished registration of /Users/joseulloa/Data/fMRIBreastData/NiftiData/ANON97378/ANON18218/20230621/301/3/301_dyn_ethrive.nii.gz\n",
      "Elapsed Time: 415.83[s] (0:06:55.826415)\n",
      "Saving output in /Users/joseulloa/Data/fMRIBreastData/ANTsReg/ANON97378/ANON18218/20230621/301/3/TP03_MOVED_WRT_TPOINT01_301_dyn_ethrive.nii.gz\n",
      "§§§§§§§§§§§§§§§§§§§§§§§§§§§§§§§§§§§§§§§§§§§§§§§§§§§§§§§§§§§§§§§§§§§§§§§§§§§§§§§§§§§§§§§§§§§§§§§§§§§§\n",
      "Registering moving data at /Users/joseulloa/Data/fMRIBreastData/NiftiData/ANON97378/ANON18218/20230621/301/2/301_dyn_ethrive.nii.gz to fixed image at /Users/joseulloa/Data/fMRIBreastData/NiftiData/ANON97378/ANON18218/20230621/301/1/301_dyn_ethrive.nii.gz...\n",
      "Finished registration of /Users/joseulloa/Data/fMRIBreastData/NiftiData/ANON97378/ANON18218/20230621/301/2/301_dyn_ethrive.nii.gz\n",
      "Elapsed Time: 397.77[s] (0:06:37.765617)\n",
      "Saving output in /Users/joseulloa/Data/fMRIBreastData/ANTsReg/ANON97378/ANON18218/20230621/301/2/TP02_MOVED_WRT_TPOINT01_301_dyn_ethrive.nii.gz\n",
      "§§§§§§§§§§§§§§§§§§§§§§§§§§§§§§§§§§§§§§§§§§§§§§§§§§§§§§§§§§§§§§§§§§§§§§§§§§§§§§§§§§§§§§§§§§§§§§§§§§§§\n",
      "Registering moving data at /Users/joseulloa/Data/fMRIBreastData/NiftiData/ANON97378/ANON18218/20230621/301/5/301_dyn_ethrive.nii.gz to fixed image at /Users/joseulloa/Data/fMRIBreastData/NiftiData/ANON97378/ANON18218/20230621/301/1/301_dyn_ethrive.nii.gz...\n",
      "Finished registration of /Users/joseulloa/Data/fMRIBreastData/NiftiData/ANON97378/ANON18218/20230621/301/5/301_dyn_ethrive.nii.gz\n",
      "Elapsed Time: 408.45[s] (0:06:48.451284)\n",
      "Saving output in /Users/joseulloa/Data/fMRIBreastData/ANTsReg/ANON97378/ANON18218/20230621/301/5/TP05_MOVED_WRT_TPOINT01_301_dyn_ethrive.nii.gz\n",
      "§§§§§§§§§§§§§§§§§§§§§§§§§§§§§§§§§§§§§§§§§§§§§§§§§§§§§§§§§§§§§§§§§§§§§§§§§§§§§§§§§§§§§§§§§§§§§§§§§§§§\n",
      "Concatenating datasets and saving 4D volumes at /Users/joseulloa/Data/fMRIBreastData/ANTsReg/ANON97378/ANON18218/20230621/301. Please wait...\n",
      "§§§§§§§§§§§§§§§§§§§§§§§§§§§§§§§§§§§§§§§§§§§§§§§§§§§§§§§§§§§§§§§§§§§§§§§§§§§§§§§§§§§§§§§§§§§§§§§§§§§§\n",
      "Registering PostTreatment dataset_to_process, please wait...\n",
      "Registering moving data at /Users/joseulloa/Data/fMRIBreastData/NiftiData/ANON97378/ANON18218/20230726/301/6/301_dyn_ethrive.nii.gz to fixed image at /Users/joseulloa/Data/fMRIBreastData/NiftiData/ANON97378/ANON18218/20230726/301/1/301_dyn_ethrive.nii.gz...\n",
      "Finished registration of /Users/joseulloa/Data/fMRIBreastData/NiftiData/ANON97378/ANON18218/20230726/301/6/301_dyn_ethrive.nii.gz\n",
      "Elapsed Time: 384.48[s] (0:06:24.484090)\n",
      "Saving output in /Users/joseulloa/Data/fMRIBreastData/ANTsReg/ANON97378/ANON18218/20230726/301/6/TP06_MOVED_WRT_TPOINT01_301_dyn_ethrive.nii.gz\n",
      "§§§§§§§§§§§§§§§§§§§§§§§§§§§§§§§§§§§§§§§§§§§§§§§§§§§§§§§§§§§§§§§§§§§§§§§§§§§§§§§§§§§§§§§§§§§§§§§§§§§§\n",
      "Registering moving data at /Users/joseulloa/Data/fMRIBreastData/NiftiData/ANON97378/ANON18218/20230726/301/4/301_dyn_ethrive.nii.gz to fixed image at /Users/joseulloa/Data/fMRIBreastData/NiftiData/ANON97378/ANON18218/20230726/301/1/301_dyn_ethrive.nii.gz...\n",
      "Finished registration of /Users/joseulloa/Data/fMRIBreastData/NiftiData/ANON97378/ANON18218/20230726/301/4/301_dyn_ethrive.nii.gz\n",
      "Elapsed Time: 395.33[s] (0:06:35.326669)\n",
      "Saving output in /Users/joseulloa/Data/fMRIBreastData/ANTsReg/ANON97378/ANON18218/20230726/301/4/TP04_MOVED_WRT_TPOINT01_301_dyn_ethrive.nii.gz\n",
      "§§§§§§§§§§§§§§§§§§§§§§§§§§§§§§§§§§§§§§§§§§§§§§§§§§§§§§§§§§§§§§§§§§§§§§§§§§§§§§§§§§§§§§§§§§§§§§§§§§§§\n",
      "Registering moving data at /Users/joseulloa/Data/fMRIBreastData/NiftiData/ANON97378/ANON18218/20230726/301/3/301_dyn_ethrive.nii.gz to fixed image at /Users/joseulloa/Data/fMRIBreastData/NiftiData/ANON97378/ANON18218/20230726/301/1/301_dyn_ethrive.nii.gz...\n",
      "Finished registration of /Users/joseulloa/Data/fMRIBreastData/NiftiData/ANON97378/ANON18218/20230726/301/3/301_dyn_ethrive.nii.gz\n",
      "Elapsed Time: 399.24[s] (0:06:39.238727)\n",
      "Saving output in /Users/joseulloa/Data/fMRIBreastData/ANTsReg/ANON97378/ANON18218/20230726/301/3/TP03_MOVED_WRT_TPOINT01_301_dyn_ethrive.nii.gz\n",
      "§§§§§§§§§§§§§§§§§§§§§§§§§§§§§§§§§§§§§§§§§§§§§§§§§§§§§§§§§§§§§§§§§§§§§§§§§§§§§§§§§§§§§§§§§§§§§§§§§§§§\n",
      "Registering moving data at /Users/joseulloa/Data/fMRIBreastData/NiftiData/ANON97378/ANON18218/20230726/301/2/301_dyn_ethrive.nii.gz to fixed image at /Users/joseulloa/Data/fMRIBreastData/NiftiData/ANON97378/ANON18218/20230726/301/1/301_dyn_ethrive.nii.gz...\n",
      "Finished registration of /Users/joseulloa/Data/fMRIBreastData/NiftiData/ANON97378/ANON18218/20230726/301/2/301_dyn_ethrive.nii.gz\n",
      "Elapsed Time: 360.69[s] (0:06:00.685349)\n",
      "Saving output in /Users/joseulloa/Data/fMRIBreastData/ANTsReg/ANON97378/ANON18218/20230726/301/2/TP02_MOVED_WRT_TPOINT01_301_dyn_ethrive.nii.gz\n",
      "§§§§§§§§§§§§§§§§§§§§§§§§§§§§§§§§§§§§§§§§§§§§§§§§§§§§§§§§§§§§§§§§§§§§§§§§§§§§§§§§§§§§§§§§§§§§§§§§§§§§\n",
      "Registering moving data at /Users/joseulloa/Data/fMRIBreastData/NiftiData/ANON97378/ANON18218/20230726/301/5/301_dyn_ethrive.nii.gz to fixed image at /Users/joseulloa/Data/fMRIBreastData/NiftiData/ANON97378/ANON18218/20230726/301/1/301_dyn_ethrive.nii.gz...\n",
      "Finished registration of /Users/joseulloa/Data/fMRIBreastData/NiftiData/ANON97378/ANON18218/20230726/301/5/301_dyn_ethrive.nii.gz\n",
      "Elapsed Time: 378.93[s] (0:06:18.929329)\n",
      "Saving output in /Users/joseulloa/Data/fMRIBreastData/ANTsReg/ANON97378/ANON18218/20230726/301/5/TP05_MOVED_WRT_TPOINT01_301_dyn_ethrive.nii.gz\n",
      "§§§§§§§§§§§§§§§§§§§§§§§§§§§§§§§§§§§§§§§§§§§§§§§§§§§§§§§§§§§§§§§§§§§§§§§§§§§§§§§§§§§§§§§§§§§§§§§§§§§§\n",
      "Concatenating datasets and saving 4D volumes at /Users/joseulloa/Data/fMRIBreastData/ANTsReg/ANON97378/ANON18218/20230726/301. Please wait...\n",
      "§§§§§§§§§§§§§§§§§§§§§§§§§§§§§§§§§§§§§§§§§§§§§§§§§§§§§§§§§§§§§§§§§§§§§§§§§§§§§§§§§§§§§§§§§§§§§§§§§§§§\n",
      "Finished processing datasets in /Users/joseulloa/Data/fMRIBreastData/NiftiData/ANON97378/ANON18218\n",
      "Total elapsed time (including saving the data): 1969.88[s] (0:32:49.884465)\n"
     ]
    }
   ],
   "source": [
    "registration_output = {}\n",
    "for visit_name, description in visit_desc.items():\n",
    "    if description['datapath'] is not None:\n",
    "        print(f'Registering {visit_name} dataset_to_process, please wait...')\n",
    "        # Initialise the output by adding the fixed image into the dictionary so the whole set can be concatenated into a single 4D dataset_to_process:\n",
    "        fixed_volume = fixed_dataset[visit_name]['fixed_volume']\n",
    "        registration_output[visit_name] = {fixed_volume_pos: {'warpedmovout': fixed_volume, \n",
    "                                                            'warpedfixout': fixed_volume,\n",
    "                                                            'fwdtransforms': None,\n",
    "                                                            'invtransforms': None}\n",
    "                                        }\n",
    "        nt = len(moving_dataset[visit_name])+1\n",
    "\n",
    "        # Initialise the image dimensions for the concatenation\n",
    "        # Will use the parameters from the corresponding Fixed image, adding the extra (4th) dimension for the time points:\n",
    "        spacing = fixed_volume.spacing + (1,)\n",
    "        origin = fixed_volume.origin + (0,)\n",
    "        volume_size = fixed_volume.shape + (nt,)\n",
    "        directions = np.eye(4)\n",
    "        directions[:-1, :-1] = fixed_volume.direction\n",
    "\n",
    "        # At the end of the loop, concatenate the unregistered and registered images into single 4D multiarrays:\n",
    "        template_4d = ants.make_image(imagesize=volume_size,\n",
    "                                      spacing=spacing, \n",
    "                                      origin=origin, \n",
    "                                      direction=directions)\n",
    "        registered_series = [None]*nt\n",
    "        unregistered_series = [None]*nt\n",
    "        \n",
    "        registered_series[fixed_volume_pos-1] = fixed_volume\n",
    "        unregistered_series[fixed_volume_pos-1] = fixed_volume\n",
    "        \n",
    "        output_volume_path = description['datapath'].replace(NIFTISRCFLDR, OUTPUTFLDR)\n",
    "        \n",
    "        # Start the timer to assess computation time of the registration per volume\n",
    "        init_time = time.perf_counter()\n",
    "        \n",
    "        for idx_set, moving_dataset_i in moving_dataset[visit_name].items():\n",
    "            # Initialise a time variable to measure the elapsed time taken during registration:\n",
    "            moving = moving_dataset_i['moving_volume']\n",
    "            # default_set['moving'] = moving\n",
    "            \n",
    "            start_time = time.perf_counter()\n",
    "            print(f\"Registering moving data at {moving_dataset_i['moving_vol_source_path']} to fixed image at {fixed_dataset[visit_name]['fixed_vol_source_path']}...\")\n",
    "            registeredOutput = ants.registration(fixed=fixed_volume , moving=moving, **par_set) #type_of_transform='SyN')\n",
    "            end_time = time.perf_counter()\n",
    "            print(f\"Finished registration of {moving_dataset_i['moving_vol_source_path']}\")\n",
    "            elp_time = end_time - start_time\n",
    "            print(f'Elapsed Time: {elp_time:0.2f}[s] ({timedelta(seconds=elp_time)})')\n",
    "            warped_moving = registeredOutput['warpedmovout']\n",
    "            registration_output[visit_name][idx_set] = registeredOutput\n",
    "            if DEBUGMODE:\n",
    "                print(registeredOutput)\n",
    "            print(f\"Saving output in {moving_dataset_i['path_to_moving_output_vols']}\")\n",
    "            ants.image_write( warped_moving, moving_dataset_i['path_to_moving_output_vols'])\n",
    "            registered_series[idx_set-1] = registration_output[visit_name][idx_set]['warpedmovout']\n",
    "            unregistered_series[idx_set-1] = moving\n",
    "\n",
    "            print(''.join(['§']*100))\n",
    "\n",
    "        print(f'Concatenating datasets and saving 4D volumes at {output_volume_path}. Please wait...')\n",
    "        registered_output_path = os.path.join(output_volume_path, 'RegisteredVolumes.nii.gz')\n",
    "        unregistered_output_path = os.path.join(output_volume_path, 'UnregisteredVolumes.nii.gz')\n",
    "        \n",
    "        registered_4d_series = ants.list_to_ndimage(template_4d, registered_series)\n",
    "        unregistered_4d_series = ants.list_to_ndimage(template_4d, unregistered_series)\n",
    "\n",
    "        ants.image_write(registered_4d_series, registered_output_path)\n",
    "        ants.image_write(unregistered_4d_series, unregistered_output_path)\n",
    "\n",
    "        final_time = time.perf_counter()\n",
    "        elp_global = final_time - init_time\n",
    "        print(''.join(['§']*100))\n",
    "        \n",
    "print(f'Finished processing datasets in {patient_path}')\n",
    "print(f'Total elapsed time (including saving the data): {elp_global:0.2f}[s] ({timedelta(seconds=elp_global)})')"
   ]
  },
  {
   "cell_type": "code",
   "execution_count": null,
   "id": "10d4b096-6212-49dd-ac84-3e0b4b3c4b93",
   "metadata": {
    "tags": []
   },
   "outputs": [],
   "source": [
    "# Run single instances to test parameters\n",
    "vname = 'PreTreatment'\n",
    "idx = 4\n",
    "fix_set = fixed_dataset[vname]\n",
    "mov_set = moving_dataset[vname][idx]\n",
    "\n",
    "norm_dir = np.eye(4)\n",
    "norm_dir[:-1, :-1] = fixed_dataset[vname]['fixed_volume'].direction\n",
    "\n",
    "concat_vol = ants.make_image(imagesize=fix_set['fixed_volume'].shape + (2,),\n",
    "                             spacing=fixed_dataset[vname]['fixed_volume'].spacing + (1,), \n",
    "                             origin=fixed_dataset[vname]['fixed_volume'].origin + (0,),\n",
    "                             direction=norm_dir)\n",
    "\n",
    "# 1) Random_seed\n",
    "test_name = 'ConstantRandomSeed'\n",
    "par_set['random_seed'] = 42\n",
    "reg_result = ants.registration(fixed=fix_set['fixed_volume'] , moving=mov_set['moving_volume'], **par_set) #type_of_transform='SyN')\n",
    "ants.image_write( reg_result['warpedmovout'], mov_set['path_to_moving_output_vols'])\n",
    "reg_cat_vol = ants.list_to_ndimage(concat_vol, [fix_set['fixed_volume'], reg_result['warpedmovout']])\n",
    "\n",
    "ants.image_write(reg_cat_vol, \n",
    "                 os.path.join(os.path.split(mov_set['path_to_moving_output_vols'])[0],\n",
    "                              f'Test_{test_name}_concat_volume.nii.gz'))\n"
   ]
  },
  {
   "cell_type": "code",
   "execution_count": 15,
   "id": "03541e8e-debe-41f9-a29c-6824b2e0816f",
   "metadata": {},
   "outputs": [
    {
     "data": {
      "text/plain": [
       "ANTsImage\n",
       "\t Pixel Type : float (float32)\n",
       "\t Components : 1\n",
       "\t Dimensions : (720, 720, 180, 6)\n",
       "\t Spacing    : (0.5, 0.5, 1.0, 1.0)\n",
       "\t Origin     : (-175.9859, 265.5733, -78.1681, 0.0)\n",
       "\t Direction  : [ 1.  0.  0.  0.  0. -1.  0.  0.  0.  0.  1.  0.  0.  0.  0.  1.]"
      ]
     },
     "execution_count": 15,
     "metadata": {},
     "output_type": "execute_result"
    }
   ],
   "source": [
    "template_4d"
   ]
  }
 ],
 "metadata": {
  "kernelspec": {
   "display_name": "Python 3 (ipykernel)",
   "language": "python",
   "name": "python3"
  },
  "language_info": {
   "codemirror_mode": {
    "name": "ipython",
    "version": 3
   },
   "file_extension": ".py",
   "mimetype": "text/x-python",
   "name": "python",
   "nbconvert_exporter": "python",
   "pygments_lexer": "ipython3",
   "version": "3.9.6"
  }
 },
 "nbformat": 4,
 "nbformat_minor": 5
}
